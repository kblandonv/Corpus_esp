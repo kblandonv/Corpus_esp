{
  "nbformat": 4,
  "nbformat_minor": 0,
  "metadata": {
    "colab": {
      "provenance": []
    },
    "kernelspec": {
      "name": "python3",
      "display_name": "Python 3"
    },
    "language_info": {
      "name": "python"
    }
  },
  "cells": [
    {
      "cell_type": "code",
      "source": [
        "!pip install playwright\n",
        "!playwright install"
      ],
      "metadata": {
        "colab": {
          "base_uri": "https://localhost:8080/"
        },
        "id": "i0VrYj3AUoqX",
        "outputId": "cac76ac0-25ec-40dd-f335-223aeec1121c"
      },
      "execution_count": 31,
      "outputs": [
        {
          "output_type": "stream",
          "name": "stdout",
          "text": [
            "Requirement already satisfied: playwright in /usr/local/lib/python3.10/dist-packages (1.49.1)\n",
            "Requirement already satisfied: greenlet==3.1.1 in /usr/local/lib/python3.10/dist-packages (from playwright) (3.1.1)\n",
            "Requirement already satisfied: pyee==12.0.0 in /usr/local/lib/python3.10/dist-packages (from playwright) (12.0.0)\n",
            "Requirement already satisfied: typing-extensions in /usr/local/lib/python3.10/dist-packages (from pyee==12.0.0->playwright) (4.12.2)\n",
            "Playwright Host validation warning: \n",
            "╔══════════════════════════════════════════════════════╗\n",
            "║ Host system is missing dependencies to run browsers. ║\n",
            "║ Missing libraries:                                   ║\n",
            "║     libwoff2dec.so.1.0.2                             ║\n",
            "║     libgstgl-1.0.so.0                                ║\n",
            "║     libgstcodecparsers-1.0.so.0                      ║\n",
            "║     libavif.so.13                                    ║\n",
            "║     libharfbuzz-icu.so.0                             ║\n",
            "║     libenchant-2.so.2                                ║\n",
            "║     libsecret-1.so.0                                 ║\n",
            "║     libhyphen.so.0                                   ║\n",
            "║     libmanette-0.2.so.0                              ║\n",
            "╚══════════════════════════════════════════════════════╝\n",
            "    at validateDependenciesLinux (/usr/local/lib/python3.10/dist-packages/playwright/driver/package/lib/server/registry/dependencies.js:216:9)\n",
            "\u001b[90m    at process.processTicksAndRejections (node:internal/process/task_queues:105:5)\u001b[39m\n",
            "    at async Registry._validateHostRequirements (/usr/local/lib/python3.10/dist-packages/playwright/driver/package/lib/server/registry/index.js:753:43)\n",
            "    at async Registry._validateHostRequirementsForExecutableIfNeeded (/usr/local/lib/python3.10/dist-packages/playwright/driver/package/lib/server/registry/index.js:851:7)\n",
            "    at async Registry.validateHostRequirementsForExecutablesIfNeeded (/usr/local/lib/python3.10/dist-packages/playwright/driver/package/lib/server/registry/index.js:840:43)\n",
            "    at async t.<anonymous> (/usr/local/lib/python3.10/dist-packages/playwright/driver/package/lib/cli/program.js:137:7)\n"
          ]
        }
      ]
    },
    {
      "cell_type": "code",
      "execution_count": 3,
      "metadata": {
        "id": "PtaJqajUM-mY"
      },
      "outputs": [],
      "source": [
        "from bs4 import BeautifulSoup\n",
        "import time\n",
        "import requests\n",
        "# colab uso de async function\n",
        "import nest_asyncio\n",
        "nest_asyncio.apply()"
      ]
    },
    {
      "cell_type": "code",
      "source": [
        "# Iniciar nuestro navegador\n",
        "from playwright.async_api import async_playwright\n",
        "playwright = await async_playwright().start()\n",
        "browser = await playwright.chromium.launch()\n",
        "page = await browser.new_page()\n",
        "\n",
        "# Navegar\n",
        "await page.goto(\"https://www.lecturalia.com/libro/10/cien-anos-de-soledad\")\n",
        "time.sleep(2)\n",
        "web = await page.content()\n",
        "time.sleep(2)\n",
        "\n",
        "\n",
        "while(True):\n",
        "  try:\n",
        "    button_xpath = \"//div[@id='button-comments']//a[contains(text(), 'Ver más comentarios')]\"\n",
        "    await page.locator(button_xpath).click()\n",
        "  except:\n",
        "    print(\"No veo el boton\")\n",
        "    break\n",
        "\n",
        "  time.sleep(2)\n",
        "\n",
        "  try:\n",
        "    print(\"Presionao\")\n",
        "    await page.get_by_label(\"Close\").click()\n",
        "  except:\n",
        "    print(\"No esta\")\n",
        "  web = await page.content()\n",
        "\n",
        "soup = BeautifulSoup(web, 'html.parser')\n",
        "\n",
        "opiniones = soup.find_all('div', class_='commentbox__content')\n",
        "puntuaciones = soup.find_all('div', class_='commentbox__header')\n",
        "print(len(opiniones))\n",
        "print(len(puntuaciones))\n",
        "\n",
        "# Cerrar la sesion\n",
        "await browser.close()\n",
        "await playwright.stop()"
      ],
      "metadata": {
        "colab": {
          "base_uri": "https://localhost:8080/"
        },
        "id": "iZCpNOMMONGe",
        "outputId": "993216d2-346b-4804-de41-61f3e26fe0f4"
      },
      "execution_count": 11,
      "outputs": [
        {
          "output_type": "stream",
          "name": "stdout",
          "text": [
            "Presionao\n",
            "No esta\n",
            "Presionao\n",
            "No esta\n",
            "Presionao\n",
            "No esta\n",
            "Presionao\n",
            "No esta\n",
            "Presionao\n",
            "No esta\n",
            "Presionao\n",
            "No esta\n",
            "Presionao\n",
            "No esta\n",
            "Presionao\n",
            "No esta\n",
            "Presionao\n",
            "No esta\n",
            "Presionao\n",
            "No esta\n",
            "Presionao\n",
            "No esta\n",
            "Presionao\n",
            "No esta\n",
            "Presionao\n",
            "No esta\n",
            "Presionao\n",
            "No esta\n",
            "Presionao\n",
            "No esta\n",
            "Presionao\n",
            "No esta\n",
            "Presionao\n",
            "No esta\n",
            "Presionao\n",
            "No esta\n",
            "Presionao\n",
            "No esta\n",
            "Presionao\n",
            "No esta\n",
            "Presionao\n",
            "No esta\n",
            "Presionao\n",
            "No esta\n",
            "Presionao\n",
            "No esta\n",
            "Presionao\n",
            "No esta\n",
            "Presionao\n",
            "No esta\n",
            "Presionao\n",
            "No esta\n",
            "Presionao\n",
            "No esta\n",
            "Presionao\n",
            "No esta\n",
            "Presionao\n",
            "No esta\n",
            "Presionao\n",
            "No esta\n",
            "Presionao\n",
            "No esta\n",
            "Presionao\n",
            "No esta\n",
            "Presionao\n",
            "No esta\n",
            "Presionao\n",
            "No esta\n",
            "Presionao\n",
            "No esta\n",
            "Presionao\n",
            "No esta\n",
            "Presionao\n",
            "No esta\n",
            "Presionao\n",
            "No esta\n",
            "Presionao\n",
            "No esta\n",
            "Presionao\n",
            "No esta\n",
            "Presionao\n",
            "No esta\n",
            "Presionao\n",
            "No esta\n",
            "Presionao\n",
            "No esta\n",
            "Presionao\n",
            "No esta\n",
            "Presionao\n",
            "No esta\n",
            "No veo el boton\n",
            "453\n",
            "453\n"
          ]
        }
      ]
    },
    {
      "cell_type": "code",
      "source": [
        "comentarios = [opinion.find('p').text for opinion in opiniones]\n",
        "notas = [puntuacion.find('span', class_= 'book-rate color-rate').text for puntuacion in puntuaciones]\n",
        "notas = [float(nota) for nota in notas]"
      ],
      "metadata": {
        "id": "UuUYSdFVDbkH"
      },
      "execution_count": 12,
      "outputs": []
    },
    {
      "cell_type": "code",
      "source": [
        "pos = []\n",
        "neg = []\n",
        "\n",
        "for i in range(len(comentarios)):\n",
        "  if notas[i] <= 6:\n",
        "    neg.append(comentarios[i])\n",
        "  elif notas[i] >= 8.5:\n",
        "    if len(comentarios[i]) >= 10 and len(comentarios[i]) <= 340:\n",
        "      pos.append(comentarios[i])\n",
        "\n",
        "print(len(pos))\n",
        "print(len(neg))\n",
        "#print(pos)"
      ],
      "metadata": {
        "colab": {
          "base_uri": "https://localhost:8080/"
        },
        "id": "ufFisN4-n6jQ",
        "outputId": "cc5dbb7a-a960-4173-bf06-4dfe8a810617"
      },
      "execution_count": 22,
      "outputs": [
        {
          "output_type": "stream",
          "name": "stdout",
          "text": [
            "268\n",
            "64\n"
          ]
        }
      ]
    },
    {
      "cell_type": "code",
      "source": [
        "print(pos)\n",
        "print(neg)"
      ],
      "metadata": {
        "colab": {
          "base_uri": "https://localhost:8080/"
        },
        "id": "oR0S6BRhfFDt",
        "outputId": "ca2bef79-3ac9-4936-b4da-600af71027e3"
      },
      "execution_count": 14,
      "outputs": [
        {
          "output_type": "stream",
          "name": "stdout",
          "text": [
            "['Entre todas las cosas destacables de esta obra me quedo con el fatalismo que rodea a todos los personajes, presente de manera excelente desde la primera hasta la última página. Obra maestra, un viaje hacia un mundo casi tan real como el nuestro.', 'La novela por excelencia. Imprescindible. La historia, la imaginación, los personajes, la naturaleza, el realismo mágico y la realidad maravillosa. No hay desperdicio. Ojalá leerla por primera vez cada vez que se pudiera.', 'Un libro increíble por donde se lo mire, recomiendo prestar atención para no perderse con la similitud de nombres y apellidos en la familia. Una historia perfecta que cierra de manera aún más perfecta. Recomendado.', 'Que haya personas capaces de ponerle un solo pero a este libro me hacer ver lo maravillosamente subjetiva que puede ser la literatura. Creo que a veces no somos realmente conscientes de ello.', 'Un auténtico viaje literario. Te embarcas en una historia mágica de la que no puedes salir. La familia Buendía te atrapa desde el primer minuto y no te suelta hasta el final. ', 'Hacía mucho que lo quería leer pero no me animaba debido a comentarios de que era bastante complicado, largo, que casi todos los personajes tenían los mismos nombres, etc.', 'Ya lo leí dos veces, estoy por ir a la tercera. Es como que cuando me quedo corto de realismo fantástico, me quiero zambullir de nuevo en el que hasta ahora considero dentro de los mejores cinco libros que he leído en mi vida. Imperdible.', 'Me gustó muchísimo. Un montón de personajes de una misma familia a lo largo de los años, cada uno con su personalidad, nos cuentan sus vivencias buenas y malas.', '\"Cien años de Soledad\", sin duda una de las mejores novelas del siglo veinte. Sus personajes se han convertido en clásicos indiscutibles. En arquetipos humanos a caballo entre la realidad y la fantasía. Las sagas familiares siempre enganchan pero esta es de otro mundo así como los escenarios y los tiempos.', 'Impresionante obra maestra de la literatura mundial, la historia de la familia Buendía y de Macondo. Al igual que El amor en los tiempos del cólera obra magistral.', 'Obra de arte del siglo XX. Es una epopeya de la vida. Los personajes, a pesar de ser primitivos, son universales. Lo que más me admira es la manera en que se palpa el ambiente, los paisajes y lugares sin tener que recurrir, como ocurre en algunas novelas, a  largas y, a veces, tediosas descripciones. De los mejores libros que he leído.', 'La leí por primer vez hace muchos años, por tarea de la escuela y la verdad ni me acordaba bien de que iba la historia, afortunadamente la leí recientemente y realmente fue cuando aprecie la belleza de este libro, aunque tuve que armarme de un \"acordeón\" para no perderme con tanto personaje.', 'Una obra maestra de la literatura universal. Sin ninguna duda, una de las 10 mejores novelas escritas en español. Una vez terminada su lectura, la familia Buendía permanecerá en nuestra memoria el resto de nuestra vida. Un clásico inolvidable, un libro imprescindible.', 'El torrente narrativo es apabullante. Una historia original y con muchísimos personajes, contada de una forma curiosa y excelentemente redactada. Es en todos los aspectos sobresaliente, sin embargo, he de decir que para ser \"de diez\" a mi me ha faltado algo.', 'Un buen libro sin duda, aunque creo que le sobra alguna página, ya que la historia decae un poco al final, que no está en consonancia con la originalidad de los capítulos anteriores.', 'Es una verdadera delicia. Ésta lectura te engancha en el minuto uno al más puro estilo Gabo. Es de esos libros que te los lees quince veces en la vida. Sin duda alguna: uno de mis favoritos', 'Una obra maestra que bien seguro no dejará a nadie indiferente y que consigue transmitir todas y cada una de las experiencias vividas a través de una lectura única e irrepetible. Un prodigio literario.', 'Excelente libro. No solo te mantiene atrapado en la lectura sino que además te mantiene soñando e imaginando los lugares donde la historia se desarrolla. Los personajes están muy bien desarrollados y sin duda será fácil encariñarse con ellos, especialmente para los lectores latinoamericanos.', 'Novela por excelencia con una narración, unos personajes, una historia, una familia y una literatura mágica que te envuelve y no te deja escapar hasta la última página. La mejor obra que me he leído en todo mi vida.', 'Extraordinaria, una obra maestra. Que mente tan maravillosa la de García Márquez. Una novela que te hace despedirla con lágrimas en los ojos, que habitas en la casa de los Buendía, lloras, ríes, y sientes su soledad.', 'Espectacular, un libro imprescindible, diría que insuperable. Aconsejo apuntar en una hoja el árbol genealógico, ya que la duplicidad de nombres da lugar a confusión. Es la novela por excelencia; mi preferida, sin lugar a dudas.', 'Es sin duda una de las cinco mejores novelas de escritores hispanoamericanos. Engancha desde un principio y a pesar de que son muchas páginas no se hace tediosa en ningún momento. ', 'El libro se inicia con unos de los finales más bellos y recordados de la literatura española: “Muchos años después, frente al pelotón de fusilamiento, el coronel Aureliano Buendía, hijo de José Arcadio, recuerda aquella tarde remota en que su padre lo llevó a conocer el hielo”.', 'A pesar de que el libro puede ser un poco enredado y requerir de la ayuda de un mapa conceptual o algo por el estilo para no perderse en su lectura, no significa que el libro sea tedioso, por el contrario, es increíblemente interesante y está abierto a las interpretaciones de todos, que es algo que siempre se agradece dentro de un libro.', 'La estructuración de la historia es absolutamente fabulosa, el simbolismo es rico y bien empleado y, además, es un libro ingenioso, divertido, atrayente y emocionante. Es una obra maestra.', 'No hay mucho que decir, y a la vez todo. Magnífica obra que abarca la mayoría de tópicos presentes en la naturaleza humana, a través de la familia Buendía y el gran Melquiades. Inolvidable, lectura imprescindible.', 'Libro que no conoce igual. Obra maestra que perdurará en el tiempo. La historia de la familia Buendía es maravillosa, con sus detalles fantásticos hace al lector sentir auténtica la magia que posee el relato. Sobra decir que es mi libro favorito y que de sobra recomiendo incluirlo en vuestras listas de pendientes por leer.', 'Después de muchos años de escuchar que era uno de los mejores libros de la literatura latinoamericana, decidí leerlo, sin mayores expectativas. Sin embargo, me enganchó desde el principio. La redacción es deliciosa, más allá de la trama. Sobretodo entretenido. aunque algo agotador.', 'Nunca he tenido esta sensación con ningún libro, pero considero que es super entretenido. La historia te absorbe aunque lo sucesos que ocurren en Macondo no son nada extraordinarios, para nada, sino de lo más cotidiano. Me ha gustado mucho, un libro que siempre voy a recordar.', 'Excelente novela, me cautivo desde el principio, en un comienzo se me hizo algo difícil distinguir los personaje de esta obra literaria, pero luego los reconoces tan solo leyendo sus características. Cada personaje es único, realmente una de las mejores literaturas que he leído. ', 'Obra maestra de la literatura universal. Durante la historia magníficamente contada de las siete generaciones de la familia Buendía el lector vivirá una catarsis que supondrá un antes y un después en su vida. Imprescindible.', 'Literatura con mayúscula. Una historia que te envuelve y te devuelve renovada, por la maestría con la que está hecha. Uno de los libros indispensables que habría que leer en la vida.', 'No me canso de leer esta maravilla de literatura. Es mi libro favorito, todo arte es su amplia expresión. Lo he leído 4 veces y en cada oportunidad quedo completamente enamorada de cada palabra, cada expresión, cada sentimiento y emoción de todos sus personajes. Toda una obra maestra.', 'La máxima expresión del realismo mágico. Cien años de soledad es un escaparate existencial de sus personajes, el paso de las generaciones nos muestra la levedad del ser, el ritmo inexorable del tiempo.', 'Le doy un 10 y aun así le quedo a deber con la calificación, sin lugar a dudas la más grande obra de la literatura latinoamericana. Un libro redondo por donde quiera que se le vea, sin errores, simplemente perfecto.', 'Una de las primeras novelas que me leí cuando tenía 18 años. Me encantó. Mágica y realista al mismo tiempo. Impresionante. Me enamoré de los personajes.', \"Sin duda este magnífico libro llevo el 'boom' latinoamericano a otros niveles. No le doy el 10 porque es algo confuso pero claramente es un libro con muchos mensajes implícitos así que el lector tiene que estar muy atento a las historias.\", 'Pocas palabras serían suficientes para describir esta novela. Inmensa, increíble, de una imaginación desbordante, con reflexiones para enmarcar. Gran parte de mi afición por la lectura es causada por novelas de esta talla.', 'Una obra maestra que a pesar de ser un poquito difícil de leer, conforme pasas las hojas te enamoras completamente de ella, el señor Gabriel García se merece todos los títulos y reconocimientos que tiene. Por algo esta novela está entre los 100 que debes de leer antes de morir.', '¡Un gran libro! Me encantó, aunque siendo sincera al principio no me convencía mucho, pero después mientras leía y miraba las cosas que no me agradaban y lo que me gustaba me di cuenta de que se percibían los sentimientos humanos de una manera que no había sentido con otros libros. Muy recomendable (:', 'Creo que la puntuación lo dice todo. Una obra maestra sin duda alguna, no tiene una sola página aburrida. Infinidad de temas y todos bien tratados. Obra muy ambiciosa pero a pesar de todo muy bien lograda...no se podría esperar más de Gabo!', 'Magnífica, espectacular de principio a fin, te envuelve de una forma que solo quisieras parar su lectura cuando la hayas terminado de leer. Gabo y realismo mágico, es una obra excepcional. Su lectura es obligada para todo el que sepa leer.', 'Nos cuenta la vida de una familia que empezó de la nada para poder conseguir con mucho esfuerzo algo pero al final perderlo todo y quedar olvidada. La profecía que pesaba sobre la familia siempre estuvo ahí con ellos solo al final un miembro logra descifrarlo. ', 'No voy a caer en la herejía de criticar este libro, auténtico icono de la literatura universal. Mi intención es simplemente dedicarle mi humilde homenaje. Siempre me gustaron los libros de sagas pero éste es, sin duda, el más aleccionador. ', 'Un gran libro, casi una obra maestra. Que relato tan fantastico. Cómo consigue el autor hacernos vivir en ese pueblo Colombiano y contemplar todas las penalidades y aventuras de una familia durante generaciones.', 'Los personajes son interesantísimos y complejos, el lenguaje es perfecto y la historia es sencillamente impresionante. Es un libro que hará soñar a todo el que disfrute del realismo mágico. ', 'Hace tanto tiempo... Y qué tiempos. Era el boom en todo su esplendor, cuando en España muchos andábamos apenas con Tiempo de Silencio o con el Cela de Pascual Duarte.', 'Wow, sin duda un gran libro como bien lo dicen, me ha dejado sin palabras, me consumió completamente, no se equivocaron al darle el premio nobel a García Márquez, excelente prosa, palabras utilizadas a la perfección, lenguaje nuevo que me agradó bastante, cien por ciento recomendable, un momento para estar a solas.    ', 'Lectura muy entretenida. A veces es un poco lioso seguir a todos los personajes, debido a sus nombres, pero es una lectura muy amena y un libro muy recomendable para sumergirte en el universo de García Márquez.', 'Con un estilo rico en léxico y en composición, rozando el autor la presuntuosidad en algunos puntos, se narra la historia de la familia Buendía generación a generación a través de las vicisitudes por las que ha atravesado la historia de Colombia.', 'Uno de los mejores libros que he leído. Una obra de una genialidad gigantesca que hace de la historia que cuenta una leyenda de la literatura del siglo XX. Es imposible conceder un final tan certéramente perfecto para la historia.', 'Es un libro bastante interesante. La cultura esta muy bien representada, en mi opinión, aunque los personajes son en ocasiones machistas. Pero envuelve todo el amor y desamor, lo que hacen los personajes por salir adelante o por dejarse morir si más.', 'Sorprendente, te engancha en una espiral incontrolable de la que no puedes salir hasta que lo acabas. Si bien hay muchos personajes, éstos enriquecen la historia muchísimo. Definitivamente merece la pena. ', 'Creo que junto con el Quijote son las dos grandes novelas castellanas de todos los tiempos. Quizás en la mitad, el libro se estanque un poco, la trama se desgrane... pero el final cierra. La prosa es exuberante, es caribe, café amargo, selva y calor latinoamericano.', 'El libro me ha gustado bastante en líneas generales. Como única pega podría decir que no logró conseguir engancharme de manera notable. Aun así, se lee con bastante agilidad. ', 'Me agradó bastante la obra pero de repente se vuelve un poco confuso al no querer variar los nombres d los personajes, sin embargo una obra que resalta la descripción de los lugares.', 'Forma parte de los mejores libros que he leído. Lo leí muy joven y cambio mi manera de pensar en muchos aspectos, no muy fácil de leer, pero Gabo con su narración te impregna mucho en la historia. Es la clase de libro que lees mil veces y encuentras mil cosas nuevas. ¡Maravilloso!', 'Un libro muy interesante y valioso. Un final surrealista, totalmente inesperado. Me sorprendió mucho la capacidad de Marquez de crear un universo donde se van sucediendo las generaciones, las descripciones sobre la casa son simplemente brillantes', 'Me encanta este libro. Sin duda es un libro \"especial\", García Marquez es lo que tiene... Y sobre todo esta obra suya concretamente, si te gusta lo que lees te encantará, pero sino... Por eso es un libro especial, porque Cíen años de soledad o te encanta o te aburre. No tiene nada que ver con otros libros suyos...', 'Ya lo leí dos veces y lo volvería a leer. Una historia un poco dificil de seguir por la coincidencia de nombres pero que se resuelve al adentrarse en la personalidad de cada personaje. El final me encantó, es diferente a todo lo que he leído.', 'Simplemente fascinante, la leí por primera vez durante el bachillerato y luego, ya de adulta la releí y sentí igual que la primera vez, una completa admiración por un escritor capaz de crear una historia tan llena de magia, exageraciones, fantasía y a la vez tan autóctona.', 'Al comienzo el libro se hace pesadísimo, pero a partir del primer capítulo no puedes dejar de leer. Es una gran novela pese a que la historia sea surrealista a la vez que complicadísima, algunas veces es difícil seguir el argumento.', 'Es mi libro favorito, está escrito con el mismo estilo que puede tener un cuento clásico para niños y, al igual que estos, puede llegar a ser muy cruel o divertido o ambas cosas a la vez. Es un libro perfecto. Yo lo leí en apenas tres días y es que su narración me envolvió. Me dio mucha pena acabarlo.', 'Hace mucho que leí este magnífico libro pero aún tengo un claro recuerdo de su valía. Es un claro ejemplo del realismo mágico que desde la primera línea te atrapa avanzándote toda la trama o la mitad de ella. Se lee y se devora en menos tiempo del esperado teniendo en cuenta su extensión y no me defraudó ni un segundo. ', 'Una historia épica y conmovedora. La historia de una familia asolada por la soledad en la mágica tierra ficticia de Macondo. Una novela inolvidable que rompe esquemas y, sin duda alguna, una de las mejores de la literatura sudamericana y mundial.', 'Genial.Entretenida obra,que cuesta un poquito de leer cuando empiezan a aparecer los personajes,pero nada que no se pueda arreglar,leyéndolo dos veces.Merece la pena.', 'Creo que es lo mejor de García Márquez. Una fábula increíble, la leí por 2ª vez luego de varios años y me volvió a atrapar. Lo mejor y lo peor de los seres humanos se mezclan en esta novela, a veces graciosa a veces trágica. Un clásico que hay que leer', 'Excelente libro, donde el autor muestra lo mejor de su estilo, además de que tiene todos los componentes para marcar diferencia por adelanto a la época en que fue escrito. Muy recomendado.', 'Me encantó la facilidad de lectura. A mí me cuesta leer, soy un lector lento y distraído, pero al leer Cien años de soledad parecía que su prosa fluía por mí como un río.', 'Simplemente es muy bueno, es interesante,. Me enganchó desde el principio y despertó mi interés. De fácil lectura, al menos para mí, con una buena trama desde principio a fin.', 'Es la gran obra maestra de la literatura latinoamericana del siglo XX; el realismo mágico en su apogeo. Marcó un hito que costará mucho trabajo superar.', 'Lo mejor que puedes hacer es leer este libro cada 10 años, y cada vez vas a encontrar una idea nueva. 100 años de soledad es sin duda tu mejor compañía...', 'Un libro diferente y lleno de giros tan inesperados como inverosímiles. Para facilitar la comprensión, recomiendo hacer un esquema con los numerosos personajes que van apareciendo.', 'Mágico, así es este libro, lo leí desde que estaba en la secundaria y desde entonces, lo he leído varias veces, cada vez me vuelve a encantar Macondo, la familia Buendía y las mariposas amarillas.', 'Lo considero como uno de los mejores libros, su lectura es completamente recomendable, yo lo leí haces muchos años (más de 25), y lo he releído desde entonces varias veces sobre todo cuando paso una temporada sin leer libros que me enganchen.', 'Sencillamente Gabo con su forma mágica de narrar, su realismo mágico nos lleva a otro lugar, y a través de todo estos fascinantes personajes nos entretiene y nos atrapa en su majestuosa obra.', 'La novela latinoamericana por excelencia, la lectura es complicada no lo niego, pero si logras desentrañar los misterios laberínticos de este libro, quedará recompensado con uno de los mejores libros que se han escrito en la Historia.', 'El mejor libro de la historia. El Quijote de latinoamérica, el mejor representante del BOOM. No hay palabras para describir a esta obra maestra de la literatura universal. ', 'Es uno de los libros mejor logrados por García Márquez por su sencillez narrativa y a la vez la complejidad de la trama . Condiciones que a mi entender lo hacen un libro imprescindible en la biblioteca de cualquier amante de los libros.  Es uno de esos libros que necesariamente se releen en diferentes etapas de la vida.', 'Simplemente MAGNÍFICO!!!!!... Es increíble la manera en que el autor te hace sentir y sin darte cuenta de un momento a otro te encuentras dentro de la historia. Sin duda mi libro preferido!    ', 'Lo leí siendo muy joven y espero volverlo a leer. Recuerdo las distintas historias de la familia Buendía por originales, atractivas por el modo de derrochar fantasía e  integrarla con la realidad de la manera más natural. Pero lo que más me impactó de esta novela fue la riqueza de su prosa: pura poesía. ', 'La novela con mayúsculas. Lectura imprescindible por la riqueza del imaginario de este autor colombiano precursor y máximo exponente del realismo mágico.', 'Definitivamente uno de mis favoritos en verdad no sé que tiene este libro que te atrapa, al menos lo hizo conmigo, recuerdo que desde que tenía unos 11 años quería leerlo y hasta hace unos meses se me cumplió y afortunadamente no me decepcionó. Yo creo que es un clásico que nadie puede pasar por alto.', 'Sin lugar a dudas el mejor libro que he tenido en las manos. Mi favorito por todo, por la pasión, por la tradición, por su locura, por el ingenio, por la dicha y la tragedia.', 'La primera vez que lo leí, no me hizo mucha gracia aunque me dejó un regusto de querer más. La segunda vez que me lo leí, lo disfruté conociendo ya a los personajes y disfrutando de la historia. Una obra maestra de un maestro.', 'Para este libro significo el inicio a la lectura de análisis en combinación con la aventura, muy entretenido y que recomiendo a todos los que les guste pensar mientras lees. Y a los genetistas para armar un gran árbol genealógico.', 'Afortunado aquel que no haya leído todavía este libro, porque podrá gozar del deslumbramiento iniciático de leer una auténtica obra maestra. Releer también tiene su gracia, pero como en tantas otras cosas, no es lo mismo que la primera vez.', 'Muy buen libro,  no me lié ya que miraba el árbol genealógico a menudo ni se me hizo pesado pese a que la edición tenía la letra muy pequeña. Totalmente recomendable, aunque no puedo decir que sea el libro que más me ha gustado de todos hay que reconocer que GGM es un auténtico genio de las letras.', 'Absolutamente exquisito. Sólo puedo decir: \"porque las estirpes condenadas a cien años de soledad no tenían una segunda oportunidad sobre la tierra\". Una frase que no olvidaré jamás.', 'Es de los mejores libros que he leído, es un universo en miniatura, es una lectura obligatoria y lo mejor entre todo lo bueno que es el libro, es el final que te hace ver toda la novela en una fracción de tiempo, en el último instante, en las últimas palabras leídas.', 'Las historias de cada generación van entretejiendo los hilos para hacer del final el cierre mágico que conmueve hasta las lágrimas... Gracias Gabriel por la novela más hermosa del siglo.', 'Este libro fue mi debut en el realismo mágico de Gabriel García Márquez, no me decepciono en lo más mínimo, de lectura fluida, emotivo, creativo y sorprendente, es de lo mejor que he leído.', 'En ocasiones me despistaba con las generaciones, pero Gabriel García Márquez tiene una forma muy sutil de situarte de nuevo. Un final buenísimo para un libro buenísimo.', 'Si no le pongo un diez, es porque no creo en la perfección. Podría leerme este libro 20 veces y no cansarme nunca. Una auténtica obra maestra de García Márquez', 'Éste es, sin duda, el mejor libro que he leído, y la mejor novela jamás escrita. La podrás leer mil veces, y las mil veces encontrarás un sentido distinto a cada parte del libro... Los personajes están estructurados genialmente, y definitivamente, lo cumple todo, desde lo romántico hasta la ficción... Le daría un 20 si se pudiera...', 'Me estremece recordar la lectura de este libro: tardes agarrada a él, disfrutando de los formidables acontecimientos que conforman una novela que considero indispensable. Probablemente lo mejor que se ha escrito nunca.', 'Al principio (y prácticamente hasta el final) puede parecer un sinsentido sin argumento alguno pero cuando llegas a la última página descubres la gran belleza que esconde.Merece la pena leerse las 200 paginas anteriores.', 'Es una novela muy triste, toda la atmósfera del  libro hasta el mismo título es de una soledad tremenda. Las tragedias parecen inevitables y nadie tiene una segunda oportunidad. No hay consuelo.', 'En mi criterio una de las mejores obras de la lengua española y del mundo. Donde el autor nos pone a indagar en los amores, decadencias, calamidades sufrimientos y sobre todo la soledad que indagan sus sorprendentes personajes. Bajo uno de mis movimientos literarios favoritos: El Realismo Mágico. ', 'Es cierto que es un libro difícil de seguir, pero en el que finalmente todos los personajes e historias encajan como en un gran puzzle. Muy bien ambientado . ', 'Mi primera gran novela. La leí hace mucho mucho tiempo y todavía no he olvidado sus personajes. Fue el descubrimiento de una literatura completamente distinta, nueva, maravillosa', 'Lo leí para ver si realmente tanta fama estaba justificada. Ni siquiera me interesaba el argumento. Ahora es, sin duda, una de las joyas de mi biblioteca. ', 'Partiendo de ser el primer libro que leo de García Márquez, me resultó una gran narración e historia, además de mantenerme atento al sin fin de situaciones por la que nos lleva el autor a través de esos cien años de vivencias.', 'Simplemente maravilloso. Sólo una mente privilegiada como la de García Márquez pudo crear un libro de esta naturaleza. Con una prosa sensacional y que te introduce en un mundo fascinante y contradictorio. La le leído ya tres veces y cada vez la disfruto más.', 'Interesante enclave para situar un libro, e interesante final. Estas dos cosas hacen que merezca la pena leer un libro que cuando vas por la mitad se hace un poco largo, pero que luego remonta y vuelve a dar que pensar.', 'Sin duda mi libro favorito de mi autor favorito, me devoré el libro siendo pequeña, el realismo mágico de García Márquez me encanta, creo que es indispensable en cualquier biblioteca.', 'Cien años de soledad es una de las pocas (o poquísimas) grandes novelas capaces de conmover tanto a un erudito de 50 años como a un niño de 12 que recién se inicia en la \"literatura adulta\". Esa, me parece, es su mayor virtud.', 'Muy buena obra, si se dan cuenta al final, GABO cometió una \"equivocación\" ya que, el chavo no se acostaba con su tía, realmente era su madre, excelente obra.', ' Comencé su lectura un poco escéptica y titubeante ante las buenas críticas, ya que el libro te introduce sin contemplaciones en una familia peculiar, auténtica y con ciertos tintes surrealistas que yo no esperaba encontrar.', 'Algún escritor con menos imaginación habría sacado cinco o más novelas de este libro, pero su autor es un genio y aunque para mí no es la mejor de G.M. por sus laberínticas generaciones; debo reconocer que te sumerge en su Macondo.  ', 'Es un libro hermoso, fascinante, maravilloso y muy divertido. G. G. Márquez demuestra que es un gran escritor, un gran observador de la vida. Una historia intencionalmente caótica y disparatada como verídica. Imprescindible. ', 'Un libro muy entretenido, aunque reconozco que puede resultar pesado para algunas personas. Me tardé un poco en terminarlo pero no me arrepiento. La edición conmemorativa de la RAE vale mucho la pena por los anexos.', 'El segundo libro que me eh demorado en leer, con una sola lectura poniéndole mucha atención para no confundirme , cien años de soledad es estupenda y Gabriel García Márquez es un genio, al crear tal mundo surrealista y que atrapa al lector desde el principio. Un maestro de la literatura', 'Increíble la historia de los Buendia y esa mezcla del mito y lo real. Una historia narrada de una excelente manera, muy bien contada, hace que puedas ver el pueblo y sentir lo que los personajes sienten. Sin duda uno de mis libros favoritos', 'Es la mejor obra que he leído hasta el momento. Me parece increíble que alguien pueda contar tan bien esta historia, sin caer en la repetición y sin resultar pesado. ', '   Ésta es una de las obras maestras de la literatura latinoamericana y universal. La narrativa del texto parece ir en círculos, pero ciertamente se avanza porque cada generación  añade recuerdos e historias  a la precedente, conformando la memoria de una familia mística, dónde lo real y lo mágico pierden los límites. ', '«El Quijote» y «Cien años de soledad» España y América, el español de antes y el de ahora. Algo sencillamente maravilloso, que nos muestra una lengua que tiene mucho futuro en ambos mundos. No puedo dejar de asombrarme leyendo «Cien años de soledad».', 'Fantástica. Aunque por dos veces me acerqué a esta novela sin pasar  de la página 10... La tercera vez empecé y no paré. Al principio tanto Buendía me parecía pesado, pero cuando te metes de lleno en la historia de Macondo, quedas atrapado. Es mejor leer este libro con ojos de adulto a ratos, y de niño a otros. ', 'Para mí es una obra maestra. Cada vez que lo leo encuentro cosas nuevas que antes no había visto. Personalmente lo considero una lectura imprescindible.', 'Yo también lo leí en tres días, enloquecido, pasándome la hora de comer. Me atrapó y el final me arrastró con él. García Márquez elevó a la máxima potencia el realismo mágico. Es uno de los escritores del que más libros he leído y disfrutado.', 'Lo más de lo más.  Grande entre los grandes.  Este libro es uno de los culpables de que sea profesor de literatura.  El diez lo reservo para algo absolutamente incuestionable, si es que existe.', 'La disfruté de principio a fin. Recuerdo haberla leído en tres días y tuve que esperar más de un mes para leer otra novela porque tenía los personajes incrutados en mi cerebro. Es un texto fundamental de toda persona que sienta predilección poir la literatura. Gabo no ha podido superarse a si mismo.', 'Desde luego es un libro imprescindible. Sé que a mucha gente se le hace pesado, y quizás lo sea, pero también es inexplicablemente encantador y mágico', 'Mi hermano trajo el libro y cuando empeze a leerlo al principio no lo entendia pero luego conforme seguia leendo ya no pude parar hasta terminarlo, la historia de toda una saga de una familia......simplemente me cautivo', 'Es uno de los libros que mas me han gustado y eso que al principio tuve mis problemas para saber de quien hablaba en cada momento, suerte del arbol genealogico que hay al principio del libro.', 'Sinceramente, no descubrí lo que me gustaba hasta que lo terminé, pues empecé a echarlo de menos. Una historia excelentemente hilada, con personajes a cada cual más extravagante, pertenecientes a una familia cuya historia está ligada a la historia de un pueblo. Es realmente una obra maestra.', 'Es uno de los mejores libros que he leído en mi vida. Se debe haber necesitado una gran imaginación para escribirlo. Con una gran cantidad de personajes es un gran ejercicio a la memoria y a penas lo comienzas a leer no puedes soltarlo hasta terminarlo. Notable obra de García Márquez.', 'Hermosa obra muy buen relato, la verdad le lei tres veces es de mi total agrado con muy buena tecnica descriptiva,total merecedor del premio nobel ,te transporta a ese mundo exagerado y tan sublime llamado macondo .', 'Es una obra excelente, cuando la lees te transporta, es como estar viviendo todo lo que el Gabo relata,  esta llena de fantasia, es totalmente fascinante, la he leído dos veces y creo que mas adelante la volvere a leer', 'Aunque mi primer intento de leer este libro me llevo a dejarlo por lo enrevesado que parecia ser, en una segunda y ultima toma de contacto se convirtio en mi libro preferido. El final me dejo extasiada. Recomiendo leerlo con papel y lapiz para seguir el hilo de los personajes pero es una verdadera obra de arte.', 'La imaginacion de gabo es realmente infinita... la realidad y la ficcion van de la mano de principio a fin en esta obra maestra y la diferencia entre ambas es tan pero tan sutil que ya no se sabe cual es cual !! que es ficcion o realidad en macondo ??!?!?!', 'En la república independiente de macondo viven los personajes mas pintorescos y se cuentan las historias mas extraordinarias que jamás leí. Una obra maestra. ', 'me atreveria a decir que es el mejor libro que he leido de gabriel garcia marquez es sencillamente brillante, toda esa serie de elementos conjuntamente son sus personajes lo hacen un libro unico y muy particular, es imaginativo, magico, atrayente, muyy bueno..', 'Libro completamente fantástico igual que otros tantos de Gabriel García Marquez que trasportan la mente como si fuese un espectador de la novela... me encanta este libro y otros del mismo autor (amor en los tiempos de colera, crónicas de una muerte anunciada, el coronel no tiene quien le escriba, vivir para contarlo) espectacular', 'La primera vez que leí este libro no me gustó, así de plano, pero en esta segunda ocasión realmente me impresionó muchísimo. Sólo una recomendación, trata de tomar nota de los personajes para que no te pierdas entre tantos Arcadios y Aurelianos.', 'Obra imprescindible de la literatura universal y máxima del realismo mágico. Construye toda la saga de una familia, desde su auge hasta su ocaso. De manera maravillosa y pensada. En ocasiones puede ser farragosa debido a su premeditada repetición de nombres de los protagonistas.', 'probablemente mi libro favorito si sumo la calidad literaria y lo que me gustó....de hecho estoy volviendo a leerlo. ¿enredoso? bueno ...si tardas meses en leerlo puede ser pero si lo deboras como me ocurre a mi no es nada lioso.', 'Nunca tuve paciencia para leer \"El Quijote\". Si lo hubiera hecho, quien sabe si encontraría razones para no decir que Cien Años de Soledad es para mí, el mejor libro del mundo.', 'soy una humilde lectora que se limita a alabar un libro, quizas uno de los mejores que he leido. con sus palabras, garcia marquez hace de un infierno algo hermoso. ', 'Es lo mejor que se ha escrito en lengua castellana en el siglo XX. Hay más imaginación en cada página que en toda la bibliografía de algunos autores de éxito que escriben una y otra vez la misma novela (las mismas \"intrigas\", los mismos personajes estereotipados, etc.) con títulos distintos.']\n",
            "['Aburrido, tostón monumental. No se lo recomiendo ni a mí peor enemigo.', 'Me he llevado una gran decepción con este libro, en ningún momento me engancho, lo termine de leer pensando que el siguiente capítulo sería más interesante, pero no. Le pongo un 5 por que me gusta como escribe G. García Márquez.', 'Una popular opinión: Tediosa, farragosa, a veces ñoña, aburrida, rara... no se qué más calificativos utilizar, pero ninguno de ellos es positivo. ', 'Salvo las historias de Mauricio Babilonia y la masacre de las bananeras, me pareció extremadamente tedioso. Gran parte del tiempo me sentí leyendo anécdotas sin trascendencia. Fue muchísimo menos de lo que esperaba. Debo confesar que, pese a que abandoné la práctica de terminar libros que no me gustan, este lo concluí porque sentía una especie de deuda emocional con esta obra, dado que en dos oportunidades durante mi infancia y adolescencia lo abandoné, habiendo este sido prestado por mi abuela, que ya falleció.', 'Lo siento pero no pude acabarlo, al final mezclaba los personajes me resultó un auténtico rollazo', 'Gabriel en este libro pone de manifiesto su calidad expresiva y su relación cotidiana con su entorno.', 'Será porque me lo mandaron leer cuando estaba estudiando como parte del temario de clase y eso influirá en mi lectura, pero la verdad es que no lo encontré tan extraordinario como las críticas que hay por Internet podrían hacer suponer.', 'Una novela sobrevalorada, no hay un objetivo claro, no tiene una estructura, una base, es una novela sin rumbo, con muchos personajes y eso la vuelve lenta, para mi gusto no es interesante, no aprendes algo nuevo, no te deja una enseñanza, no te deja con un buen sabor, cuando te vas adentrando en su lectura lo que quieres es terminar para acabar rápido, y empezar a leer otro libro, solo para no dejarlo inconcluso.', 'Tal vez mis expectativas eran muy altas después de haber escuchado comentarios tan positivos, el libro me pareció tedioso y de muy lento avance, simplemente no pude engancharme, algunas veces me perdía con el tantos nombres tan parecidos, tal vez lo leí en el momento equivocado, probare de nuevo en unos años.', 'Después de leer los comentarios y ver que es el segundo libro mejor valorado, me preocupa el no haber podido continuar con su lectura y dejarlo aparcado por un tiempo.', 'Los libros son como casi todo en la vida y los hay para todos los gustos. Para ser sincero no me gusta mucho esta obra, me parece cansina y repetitiva. No me gusto hace años y ahora me había propuesto darle otra oportunidad y sigo sin poder digerirla. ', 'Me quedé con un mal gusto porque realmente deseaba que me gustara, lo leí con todas las expectativas imaginables. La historia no me atrajo particularmente y el relato nunca me atrapó. Me pareció que se necesitaban muchas páginas para una descripción simple o para transmitir un hecho puntual. No discuto que debe ser una obra cumbre de la literatura, pero a mí no me conmovió ni me generó nada especial.', 'Me gusta la forma de escribir de Gabriel García Márquez. Sin embargo esté libro que quizás lo empecé con muchas expectativas, me ha resultado aburrido y pesado. Aún así llegué hasta el final con intención de poder asombrarme pero sin embargo me decepciono más.  En definitiva, una historia sin pies ni cabeza, totalmente absurda y muy aburrida. ', 'No me ha gustado y estoy siendo generoso con la valoración.De acuerdo que la prosa de Garcia Marquez es rica  , pero es lo único que salva a la novela, pues esta parece un culebrón interminable y un batiburrillo de nombres de personajes repetidos mezclados en una coctelera.Acabas el libro como lo empiezas, con la sensación de que no ha pasado absolutamente nada.Lo siento no me uno al carro del elogio.', 'No dudo de la excelente calidad literaria y de su rico vocabulario, así como de sus bellas frases para  explicar situaciones cotidianas y mágicas.', 'Muchas expectativas no alcanzadas, pero hay que leerlo para poder decir justificadamente que el llamado \"realismo mágico\" no me ha atrapado.', 'Una obra cumbre de la literatura universal.', 'Lo siento pero no me gustó nada. Es muy lento y demasiado aburrido. La historia no me gusta y los nombres de los personajes hacen que te vuelvas loco.', 'Discúlpenme, pero para mi no es de lo mejor, es un libro muy pesado, con muchos nombres repetidos. Fue un suplicio terminarlo, encima para no entenderlo del todo. Si tan solo no tuviese tanta repetición de nombres sería mas agradable, aunque creo que eso tiene mucho que ver con la historia.', 'Lo siento, no pude con él. Se me hizo pesadísimo, engorroso con tanto nombre... Tuve que dejar de leerlo durante un par de semanas y cuando quise volver se me hizo todavía más cuesta arriba. El primer libro que he dejado a medias.', 'Diferente, desconcertante por momentos, hubieron veces durante la lectura tuve que cerrarlo e inspirar aire para poder poner en orden en mi cabeza lo que acababa de leer... no me dejó una sensación de satisfacción después de leerlo más bien fue un descanso. Comparto la opinión de otros comentarios respecto a que supongo que tampoco es mi tipo de lectura.', 'Sinceramente no me gusta casi nada, desde luego que la historia es super peculiar, diferente de otros escritores, muy rico en vocabulario... Pero desde luego que creo que no leer nada mas de este escritor, tal vez no sea de mi gusto, simplemente.', 'Quizás sea por que cuando lo leí era muy jovencita, pero este libro no me gustó nada. Se me hizo tedioso y muy pesado. No le encontraba ningún sentido a la historia, ni una trama argumental fija con suficiente \"chicha\" como para engancharme.', 'La verdad es que con todas las expectativas que tenía en este libro normal que me haya decepcionado profundamente. ', 'Me dio mucha dificultad leerlo. Es posible que una segunda lectura me ayude a apreciar su importancia. En ésta primera no me logré enganchar.', 'Desprecio el libro, y García Márquez es de los escritores que menos me gustan.  Me parece sobrevaloradísimo, y entre los escritores del boom, creo que se halla en una posición que no merece, cuando Cortázar y Vargas Llosa, desde mi punto de vista, han escrito libros muy superiores a éste. ', 'Será una obras de la más valorada por los lectores pero a mí personalmente no me ha gustado nada. Me ha costado digerirla pero he aguantado hasta el final. ', 'Seguro que tiene gran valor literario pero yo no he terminado de leer este relato lleno de anécdotas ingeniosas y disparatadas. Parece que esta obra es un cuadro repleto de brochazos superpuestos; cada uno de ellos tiene el mérito de la imaginación del autor pero creo que por la reiteración y la falta de un hilo argumental pierde el interés. Los personajes: Arcadio, José Arcadio, Aureliano... de las distintas generaciones de los colonos de Macondo se repiten y confunden.', 'El primer tercio de la novela es interesante pero luego se  convierte en novelita rosa. Al principio es una persona que se aísla pero su intelecto está activo. ', 'He intentado leerlo tres veces, y no he podido terminarlo, me parece aburridísimo.', 'Un libro que haya que leerlo tres veces para entenderlo es que aburre soberanamente, además sobre un tema nada original y donde aflora el sectarismo. Lo he regalado.', 'Me lo leí en algún tiempo y deseo volver a leerlo para retomar nuevamente la idea de su contenido, ya que los libros de este premio novel, también me fascinan.', 'Me resultó muy complicado, tanto nombre me perdía, eso hizo que no lo disfrutara.', 'para gustos los colores todos los comentarios son de 10 , pero a mi se me atraganto y ni lo pude terminar ,se ve que me pilló en muy mal momento lo volveré a intentar ', 'Lo siento pero se me atragantó y lo terminé a duras penas. Es sin duda lo peor que he leído de García Márquez.', 'De los pocos libros que no he podido terminar de leer. No entiendo el por qué de su éxito. Es un libro que no me aporta nada ni me divierte.', 'Todo mundo cree que este libro es bueno por que no lo entiende', 'Lo siento, nunca he podido terminar este libro. ¡Me aburre y no le encuentro la gracia!', 'He pensado: que si todo estuviese predestinado, qué razón tendría la decisión en nuestra vida. Por ello te deja con un buen sazón en tu boca está  novela tan gustosa de muchos y no apreciada por otros. Como proeza, al final encuentres tu verdad.', 'Honestamente no entiendo que le ven a este libro, no me gustó en absoluto.', 'El libro es una recopilación de gran ingenio, muy interesante, me encanta este libro.', 'No me ha gustado, me he aburrido con la historia de la familia Buendía. Creo que algunos momentos son interesantes pero otros son pesados. Es un libro que sino te engancha desde el principio te costará leerlo.', 'Sobrevalorado. Su intrincada genealogía me recuerda a las grandes novelas eslavas, con sus complicados nombres y sus apelativos para designar a los mismos, dando una vuelta de tuerca más para mantener en todo momento la atención del lector. Genera el lugar idílico de Macondo pero poco más. ', 'Supongo que será un gran libro para los mas entendidos, pero creo que para el lector \"normal\" como me considero yo, es un poco espeso de leer.', 'Creo que es el único libro que he sido incapaz de terminar, y he leido bastante. me resultó una obra muy pesada, supongo que porque no llego a entender esa mezcla de realidad y surrealismo que crea, \"realismo mágico\" creo que se llama. No se, no me gustó nada, no lo recomendaría, muy aburrido. ', 'No  puedo creer q alla alguien q le pueda gustar este libro... Es un libro con demasiadas descripciones no te da la libertad q espero de un libro a la hora de leerlo no te deja imaginar practicamente nada  te da demaciados datos descriptivos.', 'Por mucho uno de los mejores libros que he leido en mi vida me inice en la lectura de literatura con el y Garcia Marquez se convirtio en uno de mis escritores favoritos, sin duda alguna la mejor narrativa que he leido, las descripciones de los ambientes son geniales, gracias a eso MACONDO se hizo inolvidable para quienes tuvimos el gusto de leer esta obra.', 'Un libro aburridisimo y muy enredoso, la verdad no lo recomiendo.']\n"
          ]
        }
      ]
    },
    {
      "cell_type": "code",
      "source": [
        "import random\n",
        "\n",
        "sub_pos = random.sample(pos, 100)\n",
        "sub_neg = random.sample(neg, 64)\n",
        "\n",
        "with open('pos.txt', 'w') as archpos:\n",
        "  for p in sub_pos:\n",
        "    archpos.write(p + '\\n')\n",
        "\n",
        "with open('neg.txt', 'w') as archneg:\n",
        "  for n in sub_neg:\n",
        "    archneg.write(n + '\\n')\n",
        "\n",
        "print(\"Escribio\")"
      ],
      "metadata": {
        "colab": {
          "base_uri": "https://localhost:8080/"
        },
        "id": "9PEi88CZwXs5",
        "outputId": "c493a03e-35d4-4794-b391-344f1562f779"
      },
      "execution_count": 24,
      "outputs": [
        {
          "output_type": "stream",
          "name": "stdout",
          "text": [
            "Escribio\n"
          ]
        }
      ]
    },
    {
      "cell_type": "code",
      "source": [
        "# Iniciar nuestro navegador\n",
        "from playwright.async_api import async_playwright\n",
        "playwright = await async_playwright().start()\n",
        "browser = await playwright.chromium.launch()\n",
        "page = await browser.new_page()\n",
        "\n",
        "# Navegar\n",
        "await page.goto(\"https://www.lecturalia.com/libro/9/el-alquimista\")\n",
        "time.sleep(2)\n",
        "web = await page.content()\n",
        "time.sleep(2)\n",
        "\n",
        "\n",
        "while(True):\n",
        "  try:\n",
        "    button_xpath = \"//div[@id='button-comments']//a[contains(text(), 'Ver más comentarios')]\"\n",
        "    await page.locator(button_xpath).click()\n",
        "  except:\n",
        "    print(\"No veo el boton\")\n",
        "    break\n",
        "\n",
        "  time.sleep(2)\n",
        "\n",
        "  try:\n",
        "    print(\"Presionao\")\n",
        "    await page.get_by_label(\"Close\").click()\n",
        "  except:\n",
        "    print(\"No esta\")\n",
        "  web = await page.content()\n",
        "\n",
        "soup = BeautifulSoup(web, 'html.parser')\n",
        "\n",
        "opiniones = soup.find_all('div', class_='commentbox__content')\n",
        "puntuaciones = soup.find_all('div', class_='commentbox__header')\n",
        "print(len(opiniones))\n",
        "print(len(puntuaciones))\n",
        "\n",
        "# Cerrar la sesion\n",
        "await browser.close()\n",
        "await playwright.stop()"
      ],
      "metadata": {
        "colab": {
          "base_uri": "https://localhost:8080/"
        },
        "id": "bQz9HBXNsYzn",
        "outputId": "110a8aa3-408b-4623-fdd2-7b3c50c48d84"
      },
      "execution_count": 25,
      "outputs": [
        {
          "output_type": "stream",
          "name": "stdout",
          "text": [
            "Presionao\n",
            "No esta\n",
            "Presionao\n",
            "No esta\n",
            "Presionao\n",
            "No esta\n",
            "Presionao\n",
            "No esta\n",
            "Presionao\n",
            "No esta\n",
            "Presionao\n",
            "No esta\n",
            "Presionao\n",
            "No esta\n",
            "Presionao\n",
            "No esta\n",
            "Presionao\n",
            "No esta\n",
            "Presionao\n",
            "No esta\n",
            "Presionao\n",
            "No esta\n",
            "Presionao\n",
            "No esta\n",
            "Presionao\n",
            "No esta\n",
            "Presionao\n",
            "No esta\n",
            "Presionao\n",
            "No esta\n",
            "Presionao\n",
            "No esta\n",
            "Presionao\n",
            "No esta\n",
            "Presionao\n",
            "No esta\n",
            "Presionao\n",
            "No esta\n",
            "Presionao\n",
            "No esta\n",
            "Presionao\n",
            "No esta\n",
            "Presionao\n",
            "No esta\n",
            "Presionao\n",
            "No esta\n",
            "Presionao\n",
            "No esta\n",
            "No veo el boton\n",
            "242\n",
            "242\n"
          ]
        }
      ]
    },
    {
      "cell_type": "code",
      "source": [
        "comentarios1 = [opinion.find('p').text for opinion in opiniones]\n",
        "notas1 = [puntuacion.find('span', class_= 'book-rate color-rate').text for puntuacion in puntuaciones]\n",
        "notas2 = [float(nota) for nota in notas1]"
      ],
      "metadata": {
        "id": "0WsI1SHIvQkn"
      },
      "execution_count": 26,
      "outputs": []
    },
    {
      "cell_type": "code",
      "source": [
        "pos1 = []\n",
        "neg1 = []\n",
        "\n",
        "for i in range(len(comentarios1)):\n",
        "  if notas2[i] <= 6:\n",
        "    neg1.append(comentarios1[i])\n",
        "  elif notas2[i] >= 8.5:\n",
        "    if len(comentarios1[i]) >= 10 and len(comentarios1[i]) <= 340:\n",
        "      pos.append(comentarios1[i])\n",
        "\n",
        "print(len(pos1))\n",
        "print(len(neg1))\n",
        "#print(pos)"
      ],
      "metadata": {
        "colab": {
          "base_uri": "https://localhost:8080/"
        },
        "id": "uGY-nD7evf-a",
        "outputId": "1153e930-3871-4ff7-b7d0-becd039ee938"
      },
      "execution_count": 27,
      "outputs": [
        {
          "output_type": "stream",
          "name": "stdout",
          "text": [
            "0\n",
            "106\n"
          ]
        }
      ]
    },
    {
      "cell_type": "code",
      "source": [
        "import random\n",
        "\n",
        "sub_neg1 = random.sample(neg1, 36)\n",
        "\n",
        "\n",
        "with open('neg1.txt', 'w') as archneg:\n",
        "  for n in sub_neg1:\n",
        "    archneg.write(n + '\\n')\n",
        "\n",
        "print(\"Escribio\")"
      ],
      "metadata": {
        "colab": {
          "base_uri": "https://localhost:8080/"
        },
        "id": "LLfKIvFvwAwg",
        "outputId": "c3c1b135-ac4c-4a9a-ca61-56245df8c275"
      },
      "execution_count": 30,
      "outputs": [
        {
          "output_type": "stream",
          "name": "stdout",
          "text": [
            "Escribio\n"
          ]
        }
      ]
    },
    {
      "cell_type": "code",
      "source": [
        "import os\n",
        "\n",
        "# Crear los directorios si no existen\n",
        "os.makedirs('corpus/pos', exist_ok=True)\n",
        "os.makedirs('corpus/neg', exist_ok=True)\n",
        "\n",
        "# Combinar archivos positivos\n",
        "with open('pos.txt', 'r') as pos_file, open('pos1.txt', 'r') as pos1_file, open('corpus/pos/positivo.txt', 'w') as combined_pos:\n",
        "    combined_pos.writelines(pos_file.readlines())\n",
        "    combined_pos.writelines(pos1_file.readlines())\n",
        "\n",
        "# Combinar archivos negativos\n",
        "with open('neg.txt', 'r') as neg_file, open('neg1.txt', 'r') as neg1_file, open('corpus/neg/negativo.txt', 'w') as combined_neg:\n",
        "    combined_neg.writelines(neg_file.readlines())\n",
        "    combined_neg.writelines(neg1_file.readlines())\n",
        "\n",
        "print(\"Archivos combinados y guardados en los directorios correspondientes.\")\n"
      ],
      "metadata": {
        "colab": {
          "base_uri": "https://localhost:8080/"
        },
        "id": "OlIv4hLx1Z1P",
        "outputId": "7e810e14-7c50-4c73-ff8b-43c24a5e8777"
      },
      "execution_count": 32,
      "outputs": [
        {
          "output_type": "stream",
          "name": "stdout",
          "text": [
            "Archivos combinados y guardados en los directorios correspondientes.\n"
          ]
        }
      ]
    }
  ]
}