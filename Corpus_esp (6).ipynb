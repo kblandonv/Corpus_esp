{
  "cells": [
    {
      "cell_type": "code",
      "execution_count": null,
      "metadata": {
        "colab": {
          "base_uri": "https://localhost:8080/"
        },
        "id": "i0VrYj3AUoqX",
        "outputId": "663a0573-3d57-4af8-93a0-9c4da09ade87"
      },
      "outputs": [
        {
          "name": "stdout",
          "output_type": "stream",
          "text": [
            "Collecting playwright\n",
            "  Downloading playwright-1.49.1-py3-none-manylinux1_x86_64.whl.metadata (3.5 kB)\n",
            "Requirement already satisfied: greenlet==3.1.1 in /usr/local/lib/python3.10/dist-packages (from playwright) (3.1.1)\n",
            "Collecting pyee==12.0.0 (from playwright)\n",
            "  Downloading pyee-12.0.0-py3-none-any.whl.metadata (2.8 kB)\n",
            "Requirement already satisfied: typing-extensions in /usr/local/lib/python3.10/dist-packages (from pyee==12.0.0->playwright) (4.12.2)\n",
            "Downloading playwright-1.49.1-py3-none-manylinux1_x86_64.whl (44.2 MB)\n",
            "\u001b[2K   \u001b[90m━━━━━━━━━━━━━━━━━━━━━━━━━━━━━━━━━━━━━━━━\u001b[0m \u001b[32m44.2/44.2 MB\u001b[0m \u001b[31m18.3 MB/s\u001b[0m eta \u001b[36m0:00:00\u001b[0m\n",
            "\u001b[?25hDownloading pyee-12.0.0-py3-none-any.whl (14 kB)\n",
            "Installing collected packages: pyee, playwright\n",
            "Successfully installed playwright-1.49.1 pyee-12.0.0\n",
            "Downloading Chromium 131.0.6778.33 (playwright build v1148)\u001b[2m from https://playwright.azureedge.net/builds/chromium/1148/chromium-linux.zip\u001b[22m\n",
            "\u001b[1G161.3 MiB [] 0% 0.0s\u001b[0K\u001b[1G161.3 MiB [] 0% 59.1s\u001b[0K\u001b[1G161.3 MiB [] 0% 32.0s\u001b[0K\u001b[1G161.3 MiB [] 0% 18.5s\u001b[0K\u001b[1G161.3 MiB [] 0% 9.6s\u001b[0K\u001b[1G161.3 MiB [] 1% 6.9s\u001b[0K\u001b[1G161.3 MiB [] 1% 5.0s\u001b[0K\u001b[1G161.3 MiB [] 2% 4.0s\u001b[0K\u001b[1G161.3 MiB [] 3% 3.8s\u001b[0K\u001b[1G161.3 MiB [] 4% 3.3s\u001b[0K\u001b[1G161.3 MiB [] 5% 3.3s\u001b[0K\u001b[1G161.3 MiB [] 6% 3.1s\u001b[0K\u001b[1G161.3 MiB [] 6% 3.3s\u001b[0K\u001b[1G161.3 MiB [] 7% 3.1s\u001b[0K\u001b[1G161.3 MiB [] 8% 3.0s\u001b[0K\u001b[1G161.3 MiB [] 9% 2.8s\u001b[0K\u001b[1G161.3 MiB [] 9% 2.7s\u001b[0K\u001b[1G161.3 MiB [] 10% 2.6s\u001b[0K\u001b[1G161.3 MiB [] 11% 2.6s\u001b[0K\u001b[1G161.3 MiB [] 12% 2.4s\u001b[0K\u001b[1G161.3 MiB [] 13% 2.2s\u001b[0K\u001b[1G161.3 MiB [] 14% 2.2s\u001b[0K\u001b[1G161.3 MiB [] 15% 2.2s\u001b[0K\u001b[1G161.3 MiB [] 15% 2.3s\u001b[0K\u001b[1G161.3 MiB [] 16% 2.2s\u001b[0K\u001b[1G161.3 MiB [] 17% 2.3s\u001b[0K\u001b[1G161.3 MiB [] 18% 2.2s\u001b[0K\u001b[1G161.3 MiB [] 19% 2.1s\u001b[0K\u001b[1G161.3 MiB [] 20% 2.1s\u001b[0K\u001b[1G161.3 MiB [] 21% 2.0s\u001b[0K\u001b[1G161.3 MiB [] 22% 2.0s\u001b[0K\u001b[1G161.3 MiB [] 23% 1.9s\u001b[0K\u001b[1G161.3 MiB [] 24% 1.9s\u001b[0K\u001b[1G161.3 MiB [] 25% 1.8s\u001b[0K\u001b[1G161.3 MiB [] 26% 1.8s\u001b[0K\u001b[1G161.3 MiB [] 28% 1.7s\u001b[0K\u001b[1G161.3 MiB [] 29% 1.7s\u001b[0K\u001b[1G161.3 MiB [] 30% 1.7s\u001b[0K\u001b[1G161.3 MiB [] 32% 1.6s\u001b[0K\u001b[1G161.3 MiB [] 33% 1.5s\u001b[0K\u001b[1G161.3 MiB [] 35% 1.4s\u001b[0K\u001b[1G161.3 MiB [] 36% 1.4s\u001b[0K\u001b[1G161.3 MiB [] 38% 1.3s\u001b[0K\u001b[1G161.3 MiB [] 39% 1.3s\u001b[0K\u001b[1G161.3 MiB [] 40% 1.3s\u001b[0K\u001b[1G161.3 MiB [] 41% 1.2s\u001b[0K\u001b[1G161.3 MiB [] 43% 1.1s\u001b[0K\u001b[1G161.3 MiB [] 44% 1.1s\u001b[0K\u001b[1G161.3 MiB [] 46% 1.1s\u001b[0K\u001b[1G161.3 MiB [] 47% 1.0s\u001b[0K\u001b[1G161.3 MiB [] 48% 1.0s\u001b[0K\u001b[1G161.3 MiB [] 50% 0.9s\u001b[0K\u001b[1G161.3 MiB [] 51% 0.9s\u001b[0K\u001b[1G161.3 MiB [] 53% 0.9s\u001b[0K\u001b[1G161.3 MiB [] 54% 0.8s\u001b[0K\u001b[1G161.3 MiB [] 56% 0.8s\u001b[0K\u001b[1G161.3 MiB [] 57% 0.8s\u001b[0K\u001b[1G161.3 MiB [] 58% 0.7s\u001b[0K\u001b[1G161.3 MiB [] 60% 0.7s\u001b[0K\u001b[1G161.3 MiB [] 62% 0.7s\u001b[0K\u001b[1G161.3 MiB [] 63% 0.7s\u001b[0K\u001b[1G161.3 MiB [] 64% 0.6s\u001b[0K\u001b[1G161.3 MiB [] 65% 0.6s\u001b[0K\u001b[1G161.3 MiB [] 66% 0.6s\u001b[0K\u001b[1G161.3 MiB [] 67% 0.6s\u001b[0K\u001b[1G161.3 MiB [] 68% 0.6s\u001b[0K\u001b[1G161.3 MiB [] 69% 0.5s\u001b[0K\u001b[1G161.3 MiB [] 70% 0.5s\u001b[0K\u001b[1G161.3 MiB [] 71% 0.5s\u001b[0K\u001b[1G161.3 MiB [] 72% 0.5s\u001b[0K\u001b[1G161.3 MiB [] 73% 0.5s\u001b[0K\u001b[1G161.3 MiB [] 74% 0.5s\u001b[0K\u001b[1G161.3 MiB [] 75% 0.4s\u001b[0K\u001b[1G161.3 MiB [] 76% 0.4s\u001b[0K\u001b[1G161.3 MiB [] 77% 0.4s\u001b[0K\u001b[1G161.3 MiB [] 78% 0.4s\u001b[0K\u001b[1G161.3 MiB [] 79% 0.4s\u001b[0K\u001b[1G161.3 MiB [] 81% 0.4s\u001b[0K\u001b[1G161.3 MiB [] 81% 0.3s\u001b[0K\u001b[1G161.3 MiB [] 82% 0.3s\u001b[0K\u001b[1G161.3 MiB [] 83% 0.3s\u001b[0K\u001b[1G161.3 MiB [] 84% 0.3s\u001b[0K\u001b[1G161.3 MiB [] 85% 0.3s\u001b[0K\u001b[1G161.3 MiB [] 86% 0.3s\u001b[0K\u001b[1G161.3 MiB [] 87% 0.2s\u001b[0K\u001b[1G161.3 MiB [] 88% 0.2s\u001b[0K\u001b[1G161.3 MiB [] 89% 0.2s\u001b[0K\u001b[1G161.3 MiB [] 90% 0.2s\u001b[0K\u001b[1G161.3 MiB [] 91% 0.2s\u001b[0K\u001b[1G161.3 MiB [] 92% 0.1s\u001b[0K\u001b[1G161.3 MiB [] 93% 0.1s\u001b[0K\u001b[1G161.3 MiB [] 94% 0.1s\u001b[0K\u001b[1G161.3 MiB [] 95% 0.1s\u001b[0K\u001b[1G161.3 MiB [] 96% 0.1s\u001b[0K\u001b[1G161.3 MiB [] 97% 0.0s\u001b[0K\u001b[1G161.3 MiB [] 98% 0.0s\u001b[0K\u001b[1G161.3 MiB [] 99% 0.0s\u001b[0K\u001b[1G161.3 MiB [] 100% 0.0s\u001b[0K\n",
            "Chromium 131.0.6778.33 (playwright build v1148) downloaded to /root/.cache/ms-playwright/chromium-1148\n",
            "Downloading Chromium Headless Shell 131.0.6778.33 (playwright build v1148)\u001b[2m from https://playwright.azureedge.net/builds/chromium/1148/chromium-headless-shell-linux.zip\u001b[22m\n",
            "\u001b[1G100.9 MiB [] 0% 0.0s\u001b[0K\u001b[1G100.9 MiB [] 0% 20.8s\u001b[0K\u001b[1G100.9 MiB [] 0% 15.9s\u001b[0K\u001b[1G100.9 MiB [] 0% 10.1s\u001b[0K\u001b[1G100.9 MiB [] 1% 5.1s\u001b[0K\u001b[1G100.9 MiB [] 2% 3.0s\u001b[0K\u001b[1G100.9 MiB [] 4% 2.3s\u001b[0K\u001b[1G100.9 MiB [] 5% 2.0s\u001b[0K\u001b[1G100.9 MiB [] 7% 1.8s\u001b[0K\u001b[1G100.9 MiB [] 8% 1.6s\u001b[0K\u001b[1G100.9 MiB [] 9% 1.5s\u001b[0K\u001b[1G100.9 MiB [] 10% 1.7s\u001b[0K\u001b[1G100.9 MiB [] 11% 1.7s\u001b[0K\u001b[1G100.9 MiB [] 12% 1.7s\u001b[0K\u001b[1G100.9 MiB [] 13% 1.6s\u001b[0K\u001b[1G100.9 MiB [] 15% 1.5s\u001b[0K\u001b[1G100.9 MiB [] 16% 1.5s\u001b[0K\u001b[1G100.9 MiB [] 17% 1.4s\u001b[0K\u001b[1G100.9 MiB [] 18% 1.4s\u001b[0K\u001b[1G100.9 MiB [] 20% 1.3s\u001b[0K\u001b[1G100.9 MiB [] 22% 1.2s\u001b[0K\u001b[1G100.9 MiB [] 23% 1.2s\u001b[0K\u001b[1G100.9 MiB [] 25% 1.1s\u001b[0K\u001b[1G100.9 MiB [] 27% 1.0s\u001b[0K\u001b[1G100.9 MiB [] 29% 1.0s\u001b[0K\u001b[1G100.9 MiB [] 31% 0.9s\u001b[0K\u001b[1G100.9 MiB [] 33% 0.9s\u001b[0K\u001b[1G100.9 MiB [] 35% 0.8s\u001b[0K\u001b[1G100.9 MiB [] 37% 0.8s\u001b[0K\u001b[1G100.9 MiB [] 38% 0.8s\u001b[0K\u001b[1G100.9 MiB [] 40% 0.8s\u001b[0K\u001b[1G100.9 MiB [] 42% 0.7s\u001b[0K\u001b[1G100.9 MiB [] 44% 0.7s\u001b[0K\u001b[1G100.9 MiB [] 46% 0.6s\u001b[0K\u001b[1G100.9 MiB [] 46% 0.7s\u001b[0K\u001b[1G100.9 MiB [] 49% 0.6s\u001b[0K\u001b[1G100.9 MiB [] 51% 0.6s\u001b[0K\u001b[1G100.9 MiB [] 54% 0.5s\u001b[0K\u001b[1G100.9 MiB [] 56% 0.5s\u001b[0K\u001b[1G100.9 MiB [] 58% 0.5s\u001b[0K\u001b[1G100.9 MiB [] 60% 0.4s\u001b[0K\u001b[1G100.9 MiB [] 63% 0.4s\u001b[0K\u001b[1G100.9 MiB [] 65% 0.4s\u001b[0K\u001b[1G100.9 MiB [] 67% 0.4s\u001b[0K\u001b[1G100.9 MiB [] 68% 0.3s\u001b[0K\u001b[1G100.9 MiB [] 71% 0.3s\u001b[0K\u001b[1G100.9 MiB [] 73% 0.3s\u001b[0K\u001b[1G100.9 MiB [] 74% 0.3s\u001b[0K\u001b[1G100.9 MiB [] 76% 0.2s\u001b[0K\u001b[1G100.9 MiB [] 78% 0.2s\u001b[0K\u001b[1G100.9 MiB [] 80% 0.2s\u001b[0K\u001b[1G100.9 MiB [] 81% 0.2s\u001b[0K\u001b[1G100.9 MiB [] 83% 0.2s\u001b[0K\u001b[1G100.9 MiB [] 84% 0.2s\u001b[0K\u001b[1G100.9 MiB [] 86% 0.1s\u001b[0K\u001b[1G100.9 MiB [] 87% 0.1s\u001b[0K\u001b[1G100.9 MiB [] 89% 0.1s\u001b[0K\u001b[1G100.9 MiB [] 91% 0.1s\u001b[0K\u001b[1G100.9 MiB [] 92% 0.1s\u001b[0K\u001b[1G100.9 MiB [] 93% 0.1s\u001b[0K\u001b[1G100.9 MiB [] 95% 0.1s\u001b[0K\u001b[1G100.9 MiB [] 95% 0.0s\u001b[0K\u001b[1G100.9 MiB [] 98% 0.0s\u001b[0K\u001b[1G100.9 MiB [] 100% 0.0s\u001b[0K\n",
            "Chromium Headless Shell 131.0.6778.33 (playwright build v1148) downloaded to /root/.cache/ms-playwright/chromium_headless_shell-1148\n",
            "Downloading Firefox 132.0 (playwright build v1466)\u001b[2m from https://playwright.azureedge.net/builds/firefox/1466/firefox-ubuntu-22.04.zip\u001b[22m\n",
            "\u001b[1G87.6 MiB [] 0% 0.0s\u001b[0K\u001b[1G87.6 MiB [] 0% 15.0s\u001b[0K\u001b[1G87.6 MiB [] 0% 11.9s\u001b[0K\u001b[1G87.6 MiB [] 0% 7.6s\u001b[0K\u001b[1G87.6 MiB [] 1% 4.3s\u001b[0K\u001b[1G87.6 MiB [] 2% 3.0s\u001b[0K\u001b[1G87.6 MiB [] 3% 2.6s\u001b[0K\u001b[1G87.6 MiB [] 4% 2.4s\u001b[0K\u001b[1G87.6 MiB [] 5% 2.2s\u001b[0K\u001b[1G87.6 MiB [] 6% 2.2s\u001b[0K\u001b[1G87.6 MiB [] 7% 2.1s\u001b[0K\u001b[1G87.6 MiB [] 8% 1.9s\u001b[0K\u001b[1G87.6 MiB [] 9% 1.8s\u001b[0K\u001b[1G87.6 MiB [] 11% 1.7s\u001b[0K\u001b[1G87.6 MiB [] 12% 1.7s\u001b[0K\u001b[1G87.6 MiB [] 12% 1.8s\u001b[0K\u001b[1G87.6 MiB [] 14% 1.7s\u001b[0K\u001b[1G87.6 MiB [] 15% 1.6s\u001b[0K\u001b[1G87.6 MiB [] 16% 1.6s\u001b[0K\u001b[1G87.6 MiB [] 17% 1.6s\u001b[0K\u001b[1G87.6 MiB [] 19% 1.6s\u001b[0K\u001b[1G87.6 MiB [] 20% 1.5s\u001b[0K\u001b[1G87.6 MiB [] 21% 1.5s\u001b[0K\u001b[1G87.6 MiB [] 22% 1.5s\u001b[0K\u001b[1G87.6 MiB [] 23% 1.4s\u001b[0K\u001b[1G87.6 MiB [] 24% 1.4s\u001b[0K\u001b[1G87.6 MiB [] 26% 1.3s\u001b[0K\u001b[1G87.6 MiB [] 27% 1.3s\u001b[0K\u001b[1G87.6 MiB [] 29% 1.3s\u001b[0K\u001b[1G87.6 MiB [] 30% 1.2s\u001b[0K\u001b[1G87.6 MiB [] 32% 1.2s\u001b[0K\u001b[1G87.6 MiB [] 33% 1.1s\u001b[0K\u001b[1G87.6 MiB [] 35% 1.1s\u001b[0K\u001b[1G87.6 MiB [] 36% 1.0s\u001b[0K\u001b[1G87.6 MiB [] 38% 1.0s\u001b[0K\u001b[1G87.6 MiB [] 39% 1.0s\u001b[0K\u001b[1G87.6 MiB [] 41% 0.9s\u001b[0K\u001b[1G87.6 MiB [] 42% 0.9s\u001b[0K\u001b[1G87.6 MiB [] 43% 0.9s\u001b[0K\u001b[1G87.6 MiB [] 45% 0.9s\u001b[0K\u001b[1G87.6 MiB [] 46% 0.8s\u001b[0K\u001b[1G87.6 MiB [] 48% 0.8s\u001b[0K\u001b[1G87.6 MiB [] 50% 0.8s\u001b[0K\u001b[1G87.6 MiB [] 51% 0.7s\u001b[0K\u001b[1G87.6 MiB [] 53% 0.7s\u001b[0K\u001b[1G87.6 MiB [] 54% 0.7s\u001b[0K\u001b[1G87.6 MiB [] 55% 0.7s\u001b[0K\u001b[1G87.6 MiB [] 57% 0.6s\u001b[0K\u001b[1G87.6 MiB [] 59% 0.6s\u001b[0K\u001b[1G87.6 MiB [] 61% 0.6s\u001b[0K\u001b[1G87.6 MiB [] 62% 0.5s\u001b[0K\u001b[1G87.6 MiB [] 64% 0.5s\u001b[0K\u001b[1G87.6 MiB [] 65% 0.5s\u001b[0K\u001b[1G87.6 MiB [] 67% 0.5s\u001b[0K\u001b[1G87.6 MiB [] 69% 0.4s\u001b[0K\u001b[1G87.6 MiB [] 71% 0.4s\u001b[0K\u001b[1G87.6 MiB [] 74% 0.3s\u001b[0K\u001b[1G87.6 MiB [] 76% 0.3s\u001b[0K\u001b[1G87.6 MiB [] 79% 0.3s\u001b[0K\u001b[1G87.6 MiB [] 81% 0.2s\u001b[0K\u001b[1G87.6 MiB [] 84% 0.2s\u001b[0K\u001b[1G87.6 MiB [] 87% 0.2s\u001b[0K\u001b[1G87.6 MiB [] 89% 0.1s\u001b[0K\u001b[1G87.6 MiB [] 91% 0.1s\u001b[0K\u001b[1G87.6 MiB [] 93% 0.1s\u001b[0K\u001b[1G87.6 MiB [] 96% 0.0s\u001b[0K\u001b[1G87.6 MiB [] 99% 0.0s\u001b[0K\u001b[1G87.6 MiB [] 100% 0.0s\u001b[0K\n",
            "Firefox 132.0 (playwright build v1466) downloaded to /root/.cache/ms-playwright/firefox-1466\n",
            "Downloading Webkit 18.2 (playwright build v2104)\u001b[2m from https://playwright.azureedge.net/builds/webkit/2104/webkit-ubuntu-22.04.zip\u001b[22m\n",
            "\u001b[1G95.5 MiB [] 0% 0.0s\u001b[0K\u001b[1G95.5 MiB [] 0% 27.0s\u001b[0K\u001b[1G95.5 MiB [] 0% 14.4s\u001b[0K\u001b[1G95.5 MiB [] 0% 8.7s\u001b[0K\u001b[1G95.5 MiB [] 1% 5.1s\u001b[0K\u001b[1G95.5 MiB [] 2% 3.7s\u001b[0K\u001b[1G95.5 MiB [] 3% 2.7s\u001b[0K\u001b[1G95.5 MiB [] 5% 2.3s\u001b[0K\u001b[1G95.5 MiB [] 6% 2.0s\u001b[0K\u001b[1G95.5 MiB [] 8% 1.8s\u001b[0K\u001b[1G95.5 MiB [] 9% 1.6s\u001b[0K\u001b[1G95.5 MiB [] 10% 1.5s\u001b[0K\u001b[1G95.5 MiB [] 11% 1.6s\u001b[0K\u001b[1G95.5 MiB [] 12% 1.6s\u001b[0K\u001b[1G95.5 MiB [] 14% 1.5s\u001b[0K\u001b[1G95.5 MiB [] 15% 1.4s\u001b[0K\u001b[1G95.5 MiB [] 16% 1.4s\u001b[0K\u001b[1G95.5 MiB [] 18% 1.3s\u001b[0K\u001b[1G95.5 MiB [] 19% 1.3s\u001b[0K\u001b[1G95.5 MiB [] 21% 1.2s\u001b[0K\u001b[1G95.5 MiB [] 22% 1.2s\u001b[0K\u001b[1G95.5 MiB [] 24% 1.1s\u001b[0K\u001b[1G95.5 MiB [] 26% 1.1s\u001b[0K\u001b[1G95.5 MiB [] 27% 1.0s\u001b[0K\u001b[1G95.5 MiB [] 29% 1.0s\u001b[0K\u001b[1G95.5 MiB [] 31% 1.0s\u001b[0K\u001b[1G95.5 MiB [] 32% 0.9s\u001b[0K\u001b[1G95.5 MiB [] 34% 0.9s\u001b[0K\u001b[1G95.5 MiB [] 36% 0.9s\u001b[0K\u001b[1G95.5 MiB [] 37% 0.8s\u001b[0K\u001b[1G95.5 MiB [] 39% 0.8s\u001b[0K\u001b[1G95.5 MiB [] 40% 0.8s\u001b[0K\u001b[1G95.5 MiB [] 42% 0.7s\u001b[0K\u001b[1G95.5 MiB [] 44% 0.7s\u001b[0K\u001b[1G95.5 MiB [] 45% 0.7s\u001b[0K\u001b[1G95.5 MiB [] 47% 0.6s\u001b[0K\u001b[1G95.5 MiB [] 49% 0.6s\u001b[0K\u001b[1G95.5 MiB [] 51% 0.6s\u001b[0K\u001b[1G95.5 MiB [] 52% 0.6s\u001b[0K\u001b[1G95.5 MiB [] 53% 0.6s\u001b[0K\u001b[1G95.5 MiB [] 56% 0.5s\u001b[0K\u001b[1G95.5 MiB [] 57% 0.5s\u001b[0K\u001b[1G95.5 MiB [] 59% 0.5s\u001b[0K\u001b[1G95.5 MiB [] 61% 0.5s\u001b[0K\u001b[1G95.5 MiB [] 62% 0.4s\u001b[0K\u001b[1G95.5 MiB [] 64% 0.4s\u001b[0K\u001b[1G95.5 MiB [] 66% 0.4s\u001b[0K\u001b[1G95.5 MiB [] 67% 0.4s\u001b[0K\u001b[1G95.5 MiB [] 69% 0.4s\u001b[0K\u001b[1G95.5 MiB [] 70% 0.3s\u001b[0K\u001b[1G95.5 MiB [] 72% 0.3s\u001b[0K\u001b[1G95.5 MiB [] 74% 0.3s\u001b[0K\u001b[1G95.5 MiB [] 76% 0.3s\u001b[0K\u001b[1G95.5 MiB [] 78% 0.2s\u001b[0K\u001b[1G95.5 MiB [] 79% 0.2s\u001b[0K\u001b[1G95.5 MiB [] 82% 0.2s\u001b[0K\u001b[1G95.5 MiB [] 83% 0.2s\u001b[0K\u001b[1G95.5 MiB [] 85% 0.2s\u001b[0K\u001b[1G95.5 MiB [] 86% 0.1s\u001b[0K\u001b[1G95.5 MiB [] 88% 0.1s\u001b[0K\u001b[1G95.5 MiB [] 90% 0.1s\u001b[0K\u001b[1G95.5 MiB [] 91% 0.1s\u001b[0K\u001b[1G95.5 MiB [] 93% 0.1s\u001b[0K\u001b[1G95.5 MiB [] 94% 0.1s\u001b[0K\u001b[1G95.5 MiB [] 96% 0.0s\u001b[0K\u001b[1G95.5 MiB [] 98% 0.0s\u001b[0K\u001b[1G95.5 MiB [] 100% 0.0s\u001b[0K\n",
            "Webkit 18.2 (playwright build v2104) downloaded to /root/.cache/ms-playwright/webkit-2104\n",
            "Downloading FFMPEG playwright build v1010\u001b[2m from https://playwright.azureedge.net/builds/ffmpeg/1010/ffmpeg-linux.zip\u001b[22m\n",
            "\u001b[1G2.3 MiB [] 0% 0.0s\u001b[0K\u001b[1G2.3 MiB [] 2% 0.8s\u001b[0K\u001b[1G2.3 MiB [] 5% 0.6s\u001b[0K\u001b[1G2.3 MiB [] 11% 0.4s\u001b[0K\u001b[1G2.3 MiB [] 29% 0.2s\u001b[0K\u001b[1G2.3 MiB [] 69% 0.0s\u001b[0K\u001b[1G2.3 MiB [] 100% 0.0s\u001b[0K\n",
            "FFMPEG playwright build v1010 downloaded to /root/.cache/ms-playwright/ffmpeg-1010\n",
            "Playwright Host validation warning: \n",
            "╔══════════════════════════════════════════════════════╗\n",
            "║ Host system is missing dependencies to run browsers. ║\n",
            "║ Missing libraries:                                   ║\n",
            "║     libwoff2dec.so.1.0.2                             ║\n",
            "║     libgstgl-1.0.so.0                                ║\n",
            "║     libgstcodecparsers-1.0.so.0                      ║\n",
            "║     libavif.so.13                                    ║\n",
            "║     libharfbuzz-icu.so.0                             ║\n",
            "║     libenchant-2.so.2                                ║\n",
            "║     libsecret-1.so.0                                 ║\n",
            "║     libhyphen.so.0                                   ║\n",
            "║     libmanette-0.2.so.0                              ║\n",
            "╚══════════════════════════════════════════════════════╝\n",
            "    at validateDependenciesLinux (/usr/local/lib/python3.10/dist-packages/playwright/driver/package/lib/server/registry/dependencies.js:216:9)\n",
            "\u001b[90m    at process.processTicksAndRejections (node:internal/process/task_queues:105:5)\u001b[39m\n",
            "    at async Registry._validateHostRequirements (/usr/local/lib/python3.10/dist-packages/playwright/driver/package/lib/server/registry/index.js:753:43)\n",
            "    at async Registry._validateHostRequirementsForExecutableIfNeeded (/usr/local/lib/python3.10/dist-packages/playwright/driver/package/lib/server/registry/index.js:851:7)\n",
            "    at async Registry.validateHostRequirementsForExecutablesIfNeeded (/usr/local/lib/python3.10/dist-packages/playwright/driver/package/lib/server/registry/index.js:840:43)\n",
            "    at async t.<anonymous> (/usr/local/lib/python3.10/dist-packages/playwright/driver/package/lib/cli/program.js:137:7)\n"
          ]
        }
      ],
      "source": [
        "!pip install playwright\n",
        "!playwright install"
      ]
    },
    {
      "cell_type": "code",
      "execution_count": null,
      "metadata": {
        "id": "PtaJqajUM-mY"
      },
      "outputs": [],
      "source": [
        "from bs4 import BeautifulSoup\n",
        "import time\n",
        "import requests\n",
        "# colab uso de async function\n",
        "import nest_asyncio\n",
        "nest_asyncio.apply()"
      ]
    },
    {
      "cell_type": "code",
      "execution_count": null,
      "metadata": {
        "colab": {
          "base_uri": "https://localhost:8080/"
        },
        "id": "iZCpNOMMONGe",
        "outputId": "1d787cd9-7ced-4702-8b0e-0148bab23860"
      },
      "outputs": [
        {
          "name": "stdout",
          "output_type": "stream",
          "text": [
            "Presionao\n",
            "No esta\n",
            "Presionao\n",
            "No esta\n",
            "Presionao\n",
            "No esta\n",
            "Presionao\n",
            "No esta\n",
            "Presionao\n",
            "No esta\n",
            "Presionao\n",
            "No esta\n",
            "Presionao\n",
            "No esta\n",
            "Presionao\n",
            "No esta\n",
            "Presionao\n",
            "No esta\n",
            "Presionao\n",
            "No esta\n",
            "Presionao\n",
            "No esta\n",
            "Presionao\n",
            "No esta\n",
            "Presionao\n",
            "No esta\n",
            "Presionao\n",
            "No esta\n",
            "Presionao\n",
            "No esta\n",
            "Presionao\n",
            "No esta\n",
            "Presionao\n",
            "No esta\n",
            "Presionao\n",
            "No esta\n",
            "Presionao\n",
            "No esta\n",
            "Presionao\n",
            "No esta\n",
            "Presionao\n",
            "No esta\n",
            "Presionao\n",
            "No esta\n",
            "Presionao\n",
            "No esta\n",
            "Presionao\n",
            "No esta\n",
            "Presionao\n",
            "No esta\n",
            "Presionao\n",
            "No esta\n",
            "Presionao\n",
            "No esta\n",
            "Presionao\n",
            "No esta\n",
            "Presionao\n",
            "No esta\n",
            "Presionao\n",
            "No esta\n",
            "Presionao\n",
            "No esta\n",
            "Presionao\n",
            "No esta\n",
            "Presionao\n",
            "No esta\n",
            "Presionao\n",
            "No esta\n",
            "Presionao\n",
            "No esta\n",
            "Presionao\n",
            "No esta\n",
            "Presionao\n",
            "No esta\n",
            "Presionao\n",
            "No esta\n",
            "Presionao\n",
            "No esta\n",
            "Presionao\n",
            "No esta\n",
            "Presionao\n",
            "No esta\n",
            "Presionao\n",
            "No esta\n",
            "Presionao\n",
            "No esta\n",
            "Presionao\n",
            "No esta\n",
            "Presionao\n",
            "No esta\n",
            "No veo el boton\n",
            "453\n",
            "453\n"
          ]
        }
      ],
      "source": [
        "# Iniciar nuestro navegador\n",
        "from playwright.async_api import async_playwright\n",
        "playwright = await async_playwright().start()\n",
        "browser = await playwright.chromium.launch()\n",
        "page = await browser.new_page()\n",
        "\n",
        "# Navegar\n",
        "await page.goto(\"https://www.lecturalia.com/libro/10/cien-anos-de-soledad\")\n",
        "time.sleep(2)\n",
        "web = await page.content()\n",
        "time.sleep(2)\n",
        "\n",
        "\n",
        "while(True):\n",
        "  try:\n",
        "    button_xpath = \"//div[@id='button-comments']//a[contains(text(), 'Ver más comentarios')]\"\n",
        "    await page.locator(button_xpath).click()\n",
        "  except:\n",
        "    print(\"No veo el boton\")\n",
        "    break\n",
        "\n",
        "  time.sleep(2)\n",
        "\n",
        "  try:\n",
        "    print(\"Presionao\")\n",
        "    await page.get_by_label(\"Close\").click()\n",
        "  except:\n",
        "    print(\"No esta\")\n",
        "  web = await page.content()\n",
        "\n",
        "soup = BeautifulSoup(web, 'html.parser')\n",
        "\n",
        "opiniones = soup.find_all('div', class_='commentbox__content')\n",
        "puntuaciones = soup.find_all('div', class_='commentbox__header')\n",
        "print(len(opiniones))\n",
        "print(len(puntuaciones))\n",
        "\n",
        "# Cerrar la sesion\n",
        "await browser.close()\n",
        "await playwright.stop()"
      ]
    },
    {
      "cell_type": "code",
      "execution_count": null,
      "metadata": {
        "id": "UuUYSdFVDbkH"
      },
      "outputs": [],
      "source": [
        "comentarios = [opinion.find('p').text for opinion in opiniones]\n",
        "notas = [puntuacion.find('span', class_= 'book-rate color-rate').text for puntuacion in puntuaciones]\n",
        "notas = [float(nota) for nota in notas]"
      ]
    },
    {
      "cell_type": "code",
      "execution_count": null,
      "metadata": {
        "colab": {
          "base_uri": "https://localhost:8080/"
        },
        "id": "ufFisN4-n6jQ",
        "outputId": "206d7794-1bf7-4c73-ea9b-60f9fb371750"
      },
      "outputs": [
        {
          "name": "stdout",
          "output_type": "stream",
          "text": [
            "268\n",
            "64\n"
          ]
        }
      ],
      "source": [
        "pos = []\n",
        "neg = []\n",
        "\n",
        "for i in range(len(comentarios)):\n",
        "  if notas[i] <= 6:\n",
        "    neg.append(comentarios[i])\n",
        "  elif notas[i] >= 8.5:\n",
        "    if len(comentarios[i]) >= 10 and len(comentarios[i]) <= 340:\n",
        "      pos.append(comentarios[i])\n",
        "\n",
        "print(len(pos))\n",
        "print(len(neg))\n",
        "#print(pos)"
      ]
    },
    {
      "cell_type": "code",
      "execution_count": null,
      "metadata": {
        "colab": {
          "base_uri": "https://localhost:8080/"
        },
        "id": "oR0S6BRhfFDt",
        "outputId": "329f1a21-8270-4739-8dc2-830cb58cbc50"
      },
      "outputs": [
        {
          "name": "stdout",
          "output_type": "stream",
          "text": [
            "['Entre todas las cosas destacables de esta obra me quedo con el fatalismo que rodea a todos los personajes, presente de manera excelente desde la primera hasta la última página. Obra maestra, un viaje hacia un mundo casi tan real como el nuestro.', 'Qué se podría agregar a lo que ya se ha dicho tanto...', 'Difícil que se vuelva escribir una novela tan linda. Una novela total. La refundación de América.', 'Una obra maestra en toda su extensión. Cuando terminas de leerla te preguntas cómo alguien pudo escribir esta maravilla de la literatura.', 'La novela por excelencia. Imprescindible. La historia, la imaginación, los personajes, la naturaleza, el realismo mágico y la realidad maravillosa. No hay desperdicio. Ojalá leerla por primera vez cada vez que se pudiera.', 'Antes de empezar, testamento firmado, aclarar que mis impresiones no son la verdad absoluta ni lo pretenden, no aseguro, ni pido disculpas.', 'Un libro increíble por donde se lo mire, recomiendo prestar atención para no perderse con la similitud de nombres y apellidos en la familia. Una historia perfecta que cierra de manera aún más perfecta. Recomendado.', '\"El coronel Aureliano Buendía apenas sí comprendió que el secreto de una buena vejez no es otra cosa que un pacto honrado con la soledad.\"', 'Que haya personas capaces de ponerle un solo pero a este libro me hacer ver lo maravillosamente subjetiva que puede ser la literatura. Creo que a veces no somos realmente conscientes de ello.', 'He vuelto a releer esta maravillosa novela y nunca defrauda ni aburre. ', 'Un auténtico viaje literario. Te embarcas en una historia mágica de la que no puedes salir. La familia Buendía te atrapa desde el primer minuto y no te suelta hasta el final. ', 'Hacía mucho que lo quería leer pero no me animaba debido a comentarios de que era bastante complicado, largo, que casi todos los personajes tenían los mismos nombres, etc.', 'Ya lo leí dos veces, estoy por ir a la tercera. Es como que cuando me quedo corto de realismo fantástico, me quiero zambullir de nuevo en el que hasta ahora considero dentro de los mejores cinco libros que he leído en mi vida. Imperdible.', 'Obra maestra de un genio de la pluma. De lectura obligatoria. Por momentos engorroso, pero con destellos magníficos que lo convierten en lo que es.', 'Me gustó muchísimo. Un montón de personajes de una misma familia a lo largo de los años, cada uno con su personalidad, nos cuentan sus vivencias buenas y malas.', 'Lo recuerdo como uno de los mejores libros de García Márquez. Con un gran lirismo.', 'Imperdible novela de Gabo. Por la cantidad de personajes con los nombres repetidos se hace un poco confusa a veces, pero vale la pena leerla.', 'Belleza en el contenido y en la forma. Gabriel García Márquez me transporta a su universo y me enamoran cada una de las frases que leo.', 'Mi libro favorito, la imaginación de Gabo es transmitida de forma divertida y a la vez profunda.', 'Un libro para disfrutar lentamente y comprender el paso del tiempo', 'Una JOYA inigualable', '\"Cien años de Soledad\", sin duda una de las mejores novelas del siglo veinte. Sus personajes se han convertido en clásicos indiscutibles. En arquetipos humanos a caballo entre la realidad y la fantasía. Las sagas familiares siempre enganchan pero esta es de otro mundo así como los escenarios y los tiempos.', 'Impresionante obra maestra de la literatura mundial, la historia de la familia Buendía y de Macondo. Al igual que El amor en los tiempos del cólera obra magistral.', 'Obra de arte del siglo XX. Es una epopeya de la vida. Los personajes, a pesar de ser primitivos, son universales. Lo que más me admira es la manera en que se palpa el ambiente, los paisajes y lugares sin tener que recurrir, como ocurre en algunas novelas, a  largas y, a veces, tediosas descripciones. De los mejores libros que he leído.', 'La leí por primer vez hace muchos años, por tarea de la escuela y la verdad ni me acordaba bien de que iba la historia, afortunadamente la leí recientemente y realmente fue cuando aprecie la belleza de este libro, aunque tuve que armarme de un \"acordeón\" para no perderme con tanto personaje.', 'Una obra maestra de la literatura universal. Sin ninguna duda, una de las 10 mejores novelas escritas en español. Una vez terminada su lectura, la familia Buendía permanecerá en nuestra memoria el resto de nuestra vida. Un clásico inolvidable, un libro imprescindible.', 'El torrente narrativo es apabullante. Una historia original y con muchísimos personajes, contada de una forma curiosa y excelentemente redactada. Es en todos los aspectos sobresaliente, sin embargo, he de decir que para ser \"de diez\" a mi me ha faltado algo.', 'Un buen libro sin duda, aunque creo que le sobra alguna página, ya que la historia decae un poco al final, que no está en consonancia con la originalidad de los capítulos anteriores.', 'Es una verdadera delicia. Ésta lectura te engancha en el minuto uno al más puro estilo Gabo. Es de esos libros que te los lees quince veces en la vida. Sin duda alguna: uno de mis favoritos', 'Una obra maestra que bien seguro no dejará a nadie indiferente y que consigue transmitir todas y cada una de las experiencias vividas a través de una lectura única e irrepetible. Un prodigio literario.', 'Excelente libro. No solo te mantiene atrapado en la lectura sino que además te mantiene soñando e imaginando los lugares donde la historia se desarrolla. Los personajes están muy bien desarrollados y sin duda será fácil encariñarse con ellos, especialmente para los lectores latinoamericanos.', 'Si posees el don de la paciencia, entonces podrás disfrutar de esta obra de arte de la literatura universal.', 'Simplemente me dejó encantada! ', 'Para mi es una de las mejores obras del s.XX.', 'Increíble novela. La releo después de 25 años y me gusta el doble.', 'Novela por excelencia con una narración, unos personajes, una historia, una familia y una literatura mágica que te envuelve y no te deja escapar hasta la última página. La mejor obra que me he leído en todo mi vida.', 'Extraordinaria, una obra maestra. Que mente tan maravillosa la de García Márquez. Una novela que te hace despedirla con lágrimas en los ojos, que habitas en la casa de los Buendía, lloras, ríes, y sientes su soledad.', 'Espectacular, un libro imprescindible, diría que insuperable. Aconsejo apuntar en una hoja el árbol genealógico, ya que la duplicidad de nombres da lugar a confusión. Es la novela por excelencia; mi preferida, sin lugar a dudas.', 'Una novela maravillosa de la primera a la última línea. Poco más se puede decir. Un libro imprescindible para cualquier amante de la literatura.  ', 'Es sin duda una de las cinco mejores novelas de escritores hispanoamericanos. Engancha desde un principio y a pesar de que son muchas páginas no se hace tediosa en ningún momento. ', 'Uno de los mejores libros que he leído en toda mi vida. ', 'El libro se inicia con unos de los finales más bellos y recordados de la literatura española: “Muchos años después, frente al pelotón de fusilamiento, el coronel Aureliano Buendía, hijo de José Arcadio, recuerda aquella tarde remota en que su padre lo llevó a conocer el hielo”.', 'A pesar de que el libro puede ser un poco enredado y requerir de la ayuda de un mapa conceptual o algo por el estilo para no perderse en su lectura, no significa que el libro sea tedioso, por el contrario, es increíblemente interesante y está abierto a las interpretaciones de todos, que es algo que siempre se agradece dentro de un libro.', 'La estructuración de la historia es absolutamente fabulosa, el simbolismo es rico y bien empleado y, además, es un libro ingenioso, divertido, atrayente y emocionante. Es una obra maestra.', 'No hay mucho que decir, y a la vez todo. Magnífica obra que abarca la mayoría de tópicos presentes en la naturaleza humana, a través de la familia Buendía y el gran Melquiades. Inolvidable, lectura imprescindible.', 'Libro que no conoce igual. Obra maestra que perdurará en el tiempo. La historia de la familia Buendía es maravillosa, con sus detalles fantásticos hace al lector sentir auténtica la magia que posee el relato. Sobra decir que es mi libro favorito y que de sobra recomiendo incluirlo en vuestras listas de pendientes por leer.', 'Después de muchos años de escuchar que era uno de los mejores libros de la literatura latinoamericana, decidí leerlo, sin mayores expectativas. Sin embargo, me enganchó desde el principio. La redacción es deliciosa, más allá de la trama. Sobretodo entretenido. aunque algo agotador.', 'Nunca he tenido esta sensación con ningún libro, pero considero que es super entretenido. La historia te absorbe aunque lo sucesos que ocurren en Macondo no son nada extraordinarios, para nada, sino de lo más cotidiano. Me ha gustado mucho, un libro que siempre voy a recordar.', 'Literatura.', 'Excelente novela, me cautivo desde el principio, en un comienzo se me hizo algo difícil distinguir los personaje de esta obra literaria, pero luego los reconoces tan solo leyendo sus características. Cada personaje es único, realmente una de las mejores literaturas que he leído. ', 'Obra maestra de la literatura universal. Durante la historia magníficamente contada de las siete generaciones de la familia Buendía el lector vivirá una catarsis que supondrá un antes y un después en su vida. Imprescindible.', 'Literatura con mayúscula. Una historia que te envuelve y te devuelve renovada, por la maestría con la que está hecha. Uno de los libros indispensables que habría que leer en la vida.', 'Sin duda de lo mejor que he leído.', 'Una de las mejores novelas que he leído.', 'No me canso de leer esta maravilla de literatura. Es mi libro favorito, todo arte es su amplia expresión. Lo he leído 4 veces y en cada oportunidad quedo completamente enamorada de cada palabra, cada expresión, cada sentimiento y emoción de todos sus personajes. Toda una obra maestra.', 'La máxima expresión del realismo mágico. Cien años de soledad es un escaparate existencial de sus personajes, el paso de las generaciones nos muestra la levedad del ser, el ritmo inexorable del tiempo.', 'Le doy un 10 y aun así le quedo a deber con la calificación, sin lugar a dudas la más grande obra de la literatura latinoamericana. Un libro redondo por donde quiera que se le vea, sin errores, simplemente perfecto.', 'Una de las primeras novelas que me leí cuando tenía 18 años. Me encantó. Mágica y realista al mismo tiempo. Impresionante. Me enamoré de los personajes.', 'Obra monumental de la literatura latinoamericana.', \"Sin duda este magnífico libro llevo el 'boom' latinoamericano a otros niveles. No le doy el 10 porque es algo confuso pero claramente es un libro con muchos mensajes implícitos así que el lector tiene que estar muy atento a las historias.\", 'Pocas palabras serían suficientes para describir esta novela. Inmensa, increíble, de una imaginación desbordante, con reflexiones para enmarcar. Gran parte de mi afición por la lectura es causada por novelas de esta talla.', 'Una obra maestra que a pesar de ser un poquito difícil de leer, conforme pasas las hojas te enamoras completamente de ella, el señor Gabriel García se merece todos los títulos y reconocimientos que tiene. Por algo esta novela está entre los 100 que debes de leer antes de morir.', 'Me encantaron muchas de las fantasías del libro. ', '¡Un gran libro! Me encantó, aunque siendo sincera al principio no me convencía mucho, pero después mientras leía y miraba las cosas que no me agradaban y lo que me gustaba me di cuenta de que se percibían los sentimientos humanos de una manera que no había sentido con otros libros. Muy recomendable (:', 'Creo que la puntuación lo dice todo. Una obra maestra sin duda alguna, no tiene una sola página aburrida. Infinidad de temas y todos bien tratados. Obra muy ambiciosa pero a pesar de todo muy bien lograda...no se podría esperar más de Gabo!', 'Increíble, gran obra maestra.', 'Magnífica, espectacular de principio a fin, te envuelve de una forma que solo quisieras parar su lectura cuando la hayas terminado de leer. Gabo y realismo mágico, es una obra excepcional. Su lectura es obligada para todo el que sepa leer.', 'Excelente. Me lo leí en el colegio y me lo he vuelto a leer un par de veces más. ', 'Para mí, una obra maestra. Debe leerse porque sí, es parte de la vida. ', '¡Esplendida obra de arte!', 'Lectura agradable, una descripción muy buena. El libro es obligatorio sí eres seguidor del autor. No defrauda.', 'Nos cuenta la vida de una familia que empezó de la nada para poder conseguir con mucho esfuerzo algo pero al final perderlo todo y quedar olvidada. La profecía que pesaba sobre la familia siempre estuvo ahí con ellos solo al final un miembro logra descifrarlo. ', 'No voy a caer en la herejía de criticar este libro, auténtico icono de la literatura universal. Mi intención es simplemente dedicarle mi humilde homenaje. Siempre me gustaron los libros de sagas pero éste es, sin duda, el más aleccionador. ', 'Un gran libro, casi una obra maestra. Que relato tan fantastico. Cómo consigue el autor hacernos vivir en ese pueblo Colombiano y contemplar todas las penalidades y aventuras de una familia durante generaciones.', 'Esta sin duda entre los tres mejores libros que he leído, es una gran obra literaria que siempre siempre recomiendo.', 'Una obra maestra. Aunque eso sí, hay que abordarlo con ganas ya que hay mucho personaje. ', 'Los personajes son interesantísimos y complejos, el lenguaje es perfecto y la historia es sencillamente impresionante. Es un libro que hará soñar a todo el que disfrute del realismo mágico. ', 'Hace tanto tiempo... Y qué tiempos. Era el boom en todo su esplendor, cuando en España muchos andábamos apenas con Tiempo de Silencio o con el Cela de Pascual Duarte.', 'El mejor libro que he leído, difícilmente superable.', 'Wow, sin duda un gran libro como bien lo dicen, me ha dejado sin palabras, me consumió completamente, no se equivocaron al darle el premio nobel a García Márquez, excelente prosa, palabras utilizadas a la perfección, lenguaje nuevo que me agradó bastante, cien por ciento recomendable, un momento para estar a solas.    ', 'Me ha gustado mucho. Me pensaba que no me gustaría, pero me ha sorprendido mucho. ', 'Solo una palabra basta... maravilloso.', 'Lectura muy entretenida. A veces es un poco lioso seguir a todos los personajes, debido a sus nombres, pero es una lectura muy amena y un libro muy recomendable para sumergirte en el universo de García Márquez.', 'Con un estilo rico en léxico y en composición, rozando el autor la presuntuosidad en algunos puntos, se narra la historia de la familia Buendía generación a generación a través de las vicisitudes por las que ha atravesado la historia de Colombia.', 'Muy bueno, algo enredoso pero la verdad una gran historia, divertida, entretenida, y hermosa como todo lo que hace García Márquez.', 'Uno de los mejores libros que he leído. Una obra de una genialidad gigantesca que hace de la historia que cuenta una leyenda de la literatura del siglo XX. Es imposible conceder un final tan certéramente perfecto para la historia.', 'Este libro me gustó!!!! La narrativa es espectacular, y recuerdo perfectamente el árbol genealógico de los Buen Diaz.', 'Obra maestra. Un genio en la cúspide de su creatividad. Para ser leído varias veces.', 'Es un libro que realmente me gustó mucho. A pesar de que a veces me hacía un lío con los nombres. Lo recomiendo totalmente.', 'Mi libro favorito una obra maestra, aunque confunde un poco el enredo de nombres repetidos.', 'Es un libro bastante interesante. La cultura esta muy bien representada, en mi opinión, aunque los personajes son en ocasiones machistas. Pero envuelve todo el amor y desamor, lo que hacen los personajes por salir adelante o por dejarse morir si más.', 'Sorprendente, te engancha en una espiral incontrolable de la que no puedes salir hasta que lo acabas. Si bien hay muchos personajes, éstos enriquecen la historia muchísimo. Definitivamente merece la pena. ', 'Creo que junto con el Quijote son las dos grandes novelas castellanas de todos los tiempos. Quizás en la mitad, el libro se estanque un poco, la trama se desgrane... pero el final cierra. La prosa es exuberante, es caribe, café amargo, selva y calor latinoamericano.', 'El libro me ha gustado bastante en líneas generales. Como única pega podría decir que no logró conseguir engancharme de manera notable. Aun así, se lee con bastante agilidad. ', 'Hay que ir a Macondo aunque sea una vez en la vida...Es una maravilla de novela ', 'Me encantó a pesar de la confusión de los nombres, es un libro muy interesante y rico en detalles.', 'Me agradó bastante la obra pero de repente se vuelve un poco confuso al no querer variar los nombres d los personajes, sin embargo una obra que resalta la descripción de los lugares.', 'Forma parte de los mejores libros que he leído. Lo leí muy joven y cambio mi manera de pensar en muchos aspectos, no muy fácil de leer, pero Gabo con su narración te impregna mucho en la historia. Es la clase de libro que lees mil veces y encuentras mil cosas nuevas. ¡Maravilloso!', 'Un libro muy interesante y valioso. Un final surrealista, totalmente inesperado. Me sorprendió mucho la capacidad de Marquez de crear un universo donde se van sucediendo las generaciones, las descripciones sobre la casa son simplemente brillantes', 'Magia de Gabriel García Márquez, aunque reconozco que me lié muchísimas veces con tanto Aureliano y tanto Buendía... Enorme la manera de redactar. ', 'Me encanta este libro. Sin duda es un libro \"especial\", García Marquez es lo que tiene... Y sobre todo esta obra suya concretamente, si te gusta lo que lees te encantará, pero sino... Por eso es un libro especial, porque Cíen años de soledad o te encanta o te aburre. No tiene nada que ver con otros libros suyos...', 'Una obra maestra', 'Imprescindible,único.Un libro como pocos,un clásico de la literatura que hay que leer al menos una vez en la vida.', 'Ya lo leí dos veces y lo volvería a leer. Una historia un poco dificil de seguir por la coincidencia de nombres pero que se resuelve al adentrarse en la personalidad de cada personaje. El final me encantó, es diferente a todo lo que he leído.', 'Simplemente fascinante, la leí por primera vez durante el bachillerato y luego, ya de adulta la releí y sentí igual que la primera vez, una completa admiración por un escritor capaz de crear una historia tan llena de magia, exageraciones, fantasía y a la vez tan autóctona.', 'Para mí, sin duda, el mejor libro de todos los tiempos. Lo tiene todo. De lectura obligatoria. OBRA MAESTRA. ', 'GENIAL, mágico, especial... INCREÍBLE Gabo... Sublime, fantástico... Uno de mis libros de cabecera sin duda. MARAVILLOSO!', 'Al comienzo el libro se hace pesadísimo, pero a partir del primer capítulo no puedes dejar de leer. Es una gran novela pese a que la historia sea surrealista a la vez que complicadísima, algunas veces es difícil seguir el argumento.', 'Es mi libro favorito, está escrito con el mismo estilo que puede tener un cuento clásico para niños y, al igual que estos, puede llegar a ser muy cruel o divertido o ambas cosas a la vez. Es un libro perfecto. Yo lo leí en apenas tres días y es que su narración me envolvió. Me dio mucha pena acabarlo.', 'Simplemente GENIAL.', 'Hace mucho que leí este magnífico libro pero aún tengo un claro recuerdo de su valía. Es un claro ejemplo del realismo mágico que desde la primera línea te atrapa avanzándote toda la trama o la mitad de ella. Se lee y se devora en menos tiempo del esperado teniendo en cuenta su extensión y no me defraudó ni un segundo. ', 'Desde que comienza hasta que termina es una genialidad, una obra maestra.', 'Excelente. Es un libro que no puede dejarse hasta no terminar de leerlo, una de las mejores muestras de realismo mágico.', 'Obra maestra, lo tiene todo. ', 'Una historia épica y conmovedora. La historia de una familia asolada por la soledad en la mágica tierra ficticia de Macondo. Una novela inolvidable que rompe esquemas y, sin duda alguna, una de las mejores de la literatura sudamericana y mundial.', 'Mágico!. Realmente una obra espectacular, difícilmente se podrá dejar de leer.', 'No le doy un \"diesazo\", por ética. Es una obra sorprendente, si bien la comencé a leer por la fama que arrastra, no desilusiona de ninguna forma. ', 'Genial.Entretenida obra,que cuesta un poquito de leer cuando empiezan a aparecer los personajes,pero nada que no se pueda arreglar,leyéndolo dos veces.Merece la pena.', 'Buenisimo, lo tiene todo!', 'Creo que es lo mejor de García Márquez. Una fábula increíble, la leí por 2ª vez luego de varios años y me volvió a atrapar. Lo mejor y lo peor de los seres humanos se mezclan en esta novela, a veces graciosa a veces trágica. Un clásico que hay que leer', 'Una perla, el mejor libro que mis ojos.. NO, que mi alma ha podido leer.', 'Excelente libro, donde el autor muestra lo mejor de su estilo, además de que tiene todos los componentes para marcar diferencia por adelanto a la época en que fue escrito. Muy recomendado.', 'Me encantó la facilidad de lectura. A mí me cuesta leer, soy un lector lento y distraído, pero al leer Cien años de soledad parecía que su prosa fluía por mí como un río.', 'Una obra maestra de la literatura latinoamericana. Lo recomiendo 100%.', 'Simplemente es muy bueno, es interesante,. Me enganchó desde el principio y despertó mi interés. De fácil lectura, al menos para mí, con una buena trama desde principio a fin.', 'Para mi una obra maestra,estoy deseando no tener nada para leer ,para volver a releerlo...lo recomiendo.', 'Sencillamente una novela descomunal. Es la refundación de América visto desde el seno de una familia.', 'Una obra maestra que atrapa. Totalmente recomendado.', 'Es la gran obra maestra de la literatura latinoamericana del siglo XX; el realismo mágico en su apogeo. Marcó un hito que costará mucho trabajo superar.', 'Es una obra maestra. Que historia tan entretenida, fascinante, mágica y de una belleza literaria incalculable.', 'Es una maravilla de la literatura. Amo este libro.', 'Antes de leerlo lo inicié 3 veces pero cuando pase de las primeras paginas no lo solté, sencillamente maravilloso, lo he leído mas de 10 veces.', ' Sin duda alguna es un libro muy interesante, es una historia única, sin duda alguna un libro genial...', 'Lo mejor que puedes hacer es leer este libro cada 10 años, y cada vez vas a encontrar una idea nueva. 100 años de soledad es sin duda tu mejor compañía...', 'Muy buena historia!! Nada que decir, y si bien le faltó más solvencia en ciertas partes, el libro es una obra maestra.', 'Un libro diferente y lleno de giros tan inesperados como inverosímiles. Para facilitar la comprensión, recomiendo hacer un esquema con los numerosos personajes que van apareciendo.', 'Sin lugar a dudas la mejor novela que se ha escrito nunca. Mi nota lo dice todo...excelente.', 'Mágico, así es este libro, lo leí desde que estaba en la secundaria y desde entonces, lo he leído varias veces, cada vez me vuelve a encantar Macondo, la familia Buendía y las mariposas amarillas.', 'Lo considero como uno de los mejores libros, su lectura es completamente recomendable, yo lo leí haces muchos años (más de 25), y lo he releído desde entonces varias veces sobre todo cuando paso una temporada sin leer libros que me enganchen.', 'Simplemente Genial por donde se vea.. no necesita presentación. Si no lo has leído, te estas tardando...', 'Sencillamente Gabo con su forma mágica de narrar, su realismo mágico nos lleva a otro lugar, y a través de todo estos fascinantes personajes nos entretiene y nos atrapa en su majestuosa obra.', 'Lo recomiendo como  libro de cabecera .', 'Muy buen libro, aunque hay que estar bien atento en no despistarse con los familiares ya que puede enredar.', 'Nadie debería quedarse sin leerlo. Está en la cima de las obras literarias de todos los tiempos.', 'Para mi una auténtica obra maestra. Un libro que debería de ser lectura obligatoria para todo el mundo.', 'Lo leí por primera vez con 14 años. Desde entonces siempre es único. ', 'La novela latinoamericana por excelencia, la lectura es complicada no lo niego, pero si logras desentrañar los misterios laberínticos de este libro, quedará recompensado con uno de los mejores libros que se han escrito en la Historia.', 'El mejor libro de la historia. El Quijote de latinoamérica, el mejor representante del BOOM. No hay palabras para describir a esta obra maestra de la literatura universal. ', 'Es uno de los libros mejor logrados por García Márquez por su sencillez narrativa y a la vez la complejidad de la trama . Condiciones que a mi entender lo hacen un libro imprescindible en la biblioteca de cualquier amante de los libros.  Es uno de esos libros que necesariamente se releen en diferentes etapas de la vida.', 'Es un libro impresionante.La frase con la que comienza queda para siempre en la memoria.', 'Simplemente MAGNÍFICO!!!!!... Es increíble la manera en que el autor te hace sentir y sin darte cuenta de un momento a otro te encuentras dentro de la historia. Sin duda mi libro preferido!    ', 'Lo leí siendo muy joven y espero volverlo a leer. Recuerdo las distintas historias de la familia Buendía por originales, atractivas por el modo de derrochar fantasía e  integrarla con la realidad de la manera más natural. Pero lo que más me impactó de esta novela fue la riqueza de su prosa: pura poesía. ', 'La novela con mayúsculas. Lectura imprescindible por la riqueza del imaginario de este autor colombiano precursor y máximo exponente del realismo mágico.', 'Definitivamente uno de mis favoritos en verdad no sé que tiene este libro que te atrapa, al menos lo hizo conmigo, recuerdo que desde que tenía unos 11 años quería leerlo y hasta hace unos meses se me cumplió y afortunadamente no me decepcionó. Yo creo que es un clásico que nadie puede pasar por alto.', 'Cuando alguien escribe algo así puede morir tranquilo, pues sabe que ha hecho algo en la vida de valía, y que nunca va a poder superar.', 'Sin lugar a dudas el mejor libro que he tenido en las manos. Mi favorito por todo, por la pasión, por la tradición, por su locura, por el ingenio, por la dicha y la tragedia.', 'Amo este libro, lo recomiendo', 'MA - RA - VI - LLO - SO !!!', 'La primera vez que lo leí, no me hizo mucha gracia aunque me dejó un regusto de querer más. La segunda vez que me lo leí, lo disfruté conociendo ya a los personajes y disfrutando de la historia. Una obra maestra de un maestro.', 'Me parece genial, me gustó muchísimo, y lo recomiendo a todo el mundo. Eso sí, a partir de cierta edad, antes de los 16 puede resultar... denso', 'Para este libro significo el inicio a la lectura de análisis en combinación con la aventura, muy entretenido y que recomiendo a todos los que les guste pensar mientras lees. Y a los genetistas para armar un gran árbol genealógico.', 'Afortunado aquel que no haya leído todavía este libro, porque podrá gozar del deslumbramiento iniciático de leer una auténtica obra maestra. Releer también tiene su gracia, pero como en tantas otras cosas, no es lo mismo que la primera vez.', 'Muy buen libro,  no me lié ya que miraba el árbol genealógico a menudo ni se me hizo pesado pese a que la edición tenía la letra muy pequeña. Totalmente recomendable, aunque no puedo decir que sea el libro que más me ha gustado de todos hay que reconocer que GGM es un auténtico genio de las letras.', 'Creo que es una lectura imprescindible.', 'Un libro que marcó un antes y un después en mi vida de lectora. Imprescindible.', 'Un imprescindible para cualquier persona, excelentes descripciones y retratos, ambientación exquisita, el mejor de G Marquez', 'Absolutamente exquisito. Sólo puedo decir: \"porque las estirpes condenadas a cien años de soledad no tenían una segunda oportunidad sobre la tierra\". Una frase que no olvidaré jamás.', 'Es de los mejores libros que he leído, es un universo en miniatura, es una lectura obligatoria y lo mejor entre todo lo bueno que es el libro, es el final que te hace ver toda la novela en una fracción de tiempo, en el último instante, en las últimas palabras leídas.', 'Las historias de cada generación van entretejiendo los hilos para hacer del final el cierre mágico que conmueve hasta las lágrimas... Gracias Gabriel por la novela más hermosa del siglo.', 'Este libro fue mi debut en el realismo mágico de Gabriel García Márquez, no me decepciono en lo más mínimo, de lectura fluida, emotivo, creativo y sorprendente, es de lo mejor que he leído.', 'En ocasiones me despistaba con las generaciones, pero Gabriel García Márquez tiene una forma muy sutil de situarte de nuevo. Un final buenísimo para un libro buenísimo.', 'Si no le pongo un diez, es porque no creo en la perfección. Podría leerme este libro 20 veces y no cansarme nunca. Una auténtica obra maestra de García Márquez', 'Una belleza de libro, perfecto. No le pide nada a nadie, ni sueña con nadie.', 'El alma hecha libro.', 'Esta novela me gustó mucho, la he releído, y sin duda cada vez que se lee es mejor. García Márquez es un maestro de la narración.', 'Éste es, sin duda, el mejor libro que he leído, y la mejor novela jamás escrita. La podrás leer mil veces, y las mil veces encontrarás un sentido distinto a cada parte del libro... Los personajes están estructurados genialmente, y definitivamente, lo cumple todo, desde lo romántico hasta la ficción... Le daría un 20 si se pudiera...', 'Acabo de terminarlo y me ha parecido un gran libro, no ha colmado todas las expectativas que en el tenía, pero sin duda me ha gustado mucho.', 'Me estremece recordar la lectura de este libro: tardes agarrada a él, disfrutando de los formidables acontecimientos que conforman una novela que considero indispensable. Probablemente lo mejor que se ha escrito nunca.', 'Mi debut con el genial García Márquez,sin palabras,me transporta a esa casa siempre abierta de mamá Ursula..', 'Un libro magnífico con una prosa brillante. Una auténtica obra maestra.', 'Al principio (y prácticamente hasta el final) puede parecer un sinsentido sin argumento alguno pero cuando llegas a la última página descubres la gran belleza que esconde.Merece la pena leerse las 200 paginas anteriores.', 'Un libro que se puede leer varias veces sin que pierda interés. Excelente. Genial. Divertido.', 'Sin duda el mejor libro de García Márquez ,realmente es una obra maestra.', 'Es una novela muy triste, toda la atmósfera del  libro hasta el mismo título es de una soledad tremenda. Las tragedias parecen inevitables y nadie tiene una segunda oportunidad. No hay consuelo.', 'Para mí García Márquez es el maestro. Cien años de soledad lo acabo de releer y me parece un historión soberbio. Espléndido.', 'Excelente obra, magistral.', 'Fantástico y entretenido libro. Me gustó mucho.', 'En mi criterio una de las mejores obras de la lengua española y del mundo. Donde el autor nos pone a indagar en los amores, decadencias, calamidades sufrimientos y sobre todo la soledad que indagan sus sorprendentes personajes. Bajo uno de mis movimientos literarios favoritos: El Realismo Mágico. ', 'Es cierto que es un libro difícil de seguir, pero en el que finalmente todos los personajes e historias encajan como en un gran puzzle. Muy bien ambientado . ', 'Mi primera gran novela. La leí hace mucho mucho tiempo y todavía no he olvidado sus personajes. Fue el descubrimiento de una literatura completamente distinta, nueva, maravillosa', 'Lo leí para ver si realmente tanta fama estaba justificada. Ni siquiera me interesaba el argumento. Ahora es, sin duda, una de las joyas de mi biblioteca. ', 'Partiendo de ser el primer libro que leo de García Márquez, me resultó una gran narración e historia, además de mantenerme atento al sin fin de situaciones por la que nos lleva el autor a través de esos cien años de vivencias.', 'Preciosa novela que te envuelve desde el principio con una magia que sólo tiene García Márquez.', 'Este libro lo leí hace mucho tiempo y creo que fue el que me introdujo en la pasión por la lectura, es el único que he leído varias veces.', 'Todo lo que ocurre está fuera del tiempo y del lugar.', 'Me encantó es un libro que refleja la decadente situación social de América Latina.', 'Uno de los mejores de García Márquez, suficiente con eso.', 'Simplemente maravilloso. Sólo una mente privilegiada como la de García Márquez pudo crear un libro de esta naturaleza. Con una prosa sensacional y que te introduce en un mundo fascinante y contradictorio. La le leído ya tres veces y cada vez la disfruto más.', 'Interesante enclave para situar un libro, e interesante final. Estas dos cosas hacen que merezca la pena leer un libro que cuando vas por la mitad se hace un poco largo, pero que luego remonta y vuelve a dar que pensar.', 'Sin duda mi libro favorito de mi autor favorito, me devoré el libro siendo pequeña, el realismo mágico de García Márquez me encanta, creo que es indispensable en cualquier biblioteca.', 'Otro indispensable. Obra cumbre de su autor. Disfrute mucho en su lectura. Quizá a veces es un poco enrevesado pero es un clásico en vida.', 'Es sin duda un buen libro, desde mi punto de vista es una historia interesante que da giros importantes en la trama lo cual captura la atención.', 'Fantástica historia con personajes entrañables. Pero quizás un poco larga de más...', 'Cien años de soledad es una de las pocas (o poquísimas) grandes novelas capaces de conmover tanto a un erudito de 50 años como a un niño de 12 que recién se inicia en la \"literatura adulta\". Esa, me parece, es su mayor virtud.', 'Excelente libro, me permitió entrar y perderme en el mundo mágico de GGM!', 'Muy buena obra, si se dan cuenta al final, GABO cometió una \"equivocación\" ya que, el chavo no se acostaba con su tía, realmente era su madre, excelente obra.', ' Comencé su lectura un poco escéptica y titubeante ante las buenas críticas, ya que el libro te introduce sin contemplaciones en una familia peculiar, auténtica y con ciertos tintes surrealistas que yo no esperaba encontrar.', 'Algún escritor con menos imaginación habría sacado cinco o más novelas de este libro, pero su autor es un genio y aunque para mí no es la mejor de G.M. por sus laberínticas generaciones; debo reconocer que te sumerge en su Macondo.  ', 'Un libro increíble... Crear y destruir Macondo tiene mucho mérito. ', 'Es un libro  muy interesante pero pesado, la historia esta muy bien realizada y en general muy bien.', 'Es un libro hermoso, fascinante, maravilloso y muy divertido. G. G. Márquez demuestra que es un gran escritor, un gran observador de la vida. Una historia intencionalmente caótica y disparatada como verídica. Imprescindible. ', 'Sin duda, es la gran obra escrita en Sudamérica. No entiendo cómo alguien de este foro la evaluó con nota cero. ', 'Un libro muy entretenido, aunque reconozco que puede resultar pesado para algunas personas. Me tardé un poco en terminarlo pero no me arrepiento. La edición conmemorativa de la RAE vale mucho la pena por los anexos.', 'El segundo libro que me eh demorado en leer, con una sola lectura poniéndole mucha atención para no confundirme , cien años de soledad es estupenda y Gabriel García Márquez es un genio, al crear tal mundo surrealista y que atrapa al lector desde el principio. Un maestro de la literatura', 'Este puntaje porque el 10 lo guardo ya sea para el libro que no leí o para rectificarme en todo caso en el futuro.', 'Muy entretenido :p', 'Excelente libro, me atrapó en todo momento', 'Increíble la historia de los Buendia y esa mezcla del mito y lo real. Una historia narrada de una excelente manera, muy bien contada, hace que puedas ver el pueblo y sentir lo que los personajes sienten. Sin duda uno de mis libros favoritos', 'Es la mejor obra que he leído hasta el momento. Me parece increíble que alguien pueda contar tan bien esta historia, sin caer en la repetición y sin resultar pesado. ', '   Ésta es una de las obras maestras de la literatura latinoamericana y universal. La narrativa del texto parece ir en círculos, pero ciertamente se avanza porque cada generación  añade recuerdos e historias  a la precedente, conformando la memoria de una familia mística, dónde lo real y lo mágico pierden los límites. ', 'Libro que crea un mundo, observas su evolución, así como destrucción. Grandes personajes, historia elaboradísima; una auténtica obra de arte.', '«El Quijote» y «Cien años de soledad» España y América, el español de antes y el de ahora. Algo sencillamente maravilloso, que nos muestra una lengua que tiene mucho futuro en ambos mundos. No puedo dejar de asombrarme leyendo «Cien años de soledad».', 'Fantástica. Aunque por dos veces me acerqué a esta novela sin pasar  de la página 10... La tercera vez empecé y no paré. Al principio tanto Buendía me parecía pesado, pero cuando te metes de lleno en la historia de Macondo, quedas atrapado. Es mejor leer este libro con ojos de adulto a ratos, y de niño a otros. ', 'Me lo he leído ya dos veces, y me encanta encontrar cosas nuevas en este libro. Es una metáfora sensacional de entender.', 'Esta novela me dejó boquiabierta. A mi me parece que todas las pasiones de la vida se ven en esta novela.', 'El mejor libro de todos los tiempos... amaba la lectura y algunos libros, pero cuando le leí, definitivamente este es y ha sido el amor de mi vida.', 'Para mí es una obra maestra. Cada vez que lo leo encuentro cosas nuevas que antes no había visto. Personalmente lo considero una lectura imprescindible.', 'Yo también lo leí en tres días, enloquecido, pasándome la hora de comer. Me atrapó y el final me arrastró con él. García Márquez elevó a la máxima potencia el realismo mágico. Es uno de los escritores del que más libros he leído y disfrutado.', 'Mi favorito, no ha conseguido ningún otro quitarle el puesto.', 'Ya lo lei hace muchos años, recuerdo que no lo podía dejar de leer. Gabriel Garcia Marquez de mis favoritos.', 'Me gustó mucho, hay partes que se hacían un pelín pesadas, pero por lo general excelente la historia de esta familia.', 'Lo más de lo más.  Grande entre los grandes.  Este libro es uno de los culpables de que sea profesor de literatura.  El diez lo reservo para algo absolutamente incuestionable, si es que existe.', 'Es uno de los libros mas lindos que leí. Es como leer muchas historias dentro de una sola. ', 'Este libro me cautivó de inmediato.  Lo leí en 3 días y siempre ha estado entre mis favoritos.  Genial.', 'Magistral de principio a fin.', 'La disfruté de principio a fin. Recuerdo haberla leído en tres días y tuve que esperar más de un mes para leer otra novela porque tenía los personajes incrutados en mi cerebro. Es un texto fundamental de toda persona que sienta predilección poir la literatura. Gabo no ha podido superarse a si mismo.', 'Desde luego es un libro imprescindible. Sé que a mucha gente se le hace pesado, y quizás lo sea, pero también es inexplicablemente encantador y mágico', 'Excelente,no me cansaré de leerlo engancha desde el principio.', 'Excelente libro! Simplemente me encantó!', 'Mi hermano trajo el libro y cuando empeze a leerlo al principio no lo entendia pero luego conforme seguia leendo ya no pude parar hasta terminarlo, la historia de toda una saga de una familia......simplemente me cautivo', 'Es uno de los libros que mas me han gustado y eso que al principio tuve mis problemas para saber de quien hablaba en cada momento, suerte del arbol genealogico que hay al principio del libro.', 'Lo leí hace muchos años y me encantó. Tanto que hasta la fecha sigue siendo mi libro favorito. Precioso.', 'Sinceramente, no descubrí lo que me gustaba hasta que lo terminé, pues empecé a echarlo de menos. Una historia excelentemente hilada, con personajes a cada cual más extravagante, pertenecientes a una familia cuya historia está ligada a la historia de un pueblo. Es realmente una obra maestra.', 'Si alguien duda de la existencia de Dios, debería leer la novela. Queda patente que Dios existe, y se llama Gabriel García Márquez.', 'Es uno de los mejores libros que he leído en mi vida. Se debe haber necesitado una gran imaginación para escribirlo. Con una gran cantidad de personajes es un gran ejercicio a la memoria y a penas lo comienzas a leer no puedes soltarlo hasta terminarlo. Notable obra de García Márquez.', 'Hermosa obra muy buen relato, la verdad le lei tres veces es de mi total agrado con muy buena tecnica descriptiva,total merecedor del premio nobel ,te transporta a ese mundo exagerado y tan sublime llamado macondo .', 'Es una obra excelente, cuando la lees te transporta, es como estar viviendo todo lo que el Gabo relata,  esta llena de fantasia, es totalmente fascinante, la he leído dos veces y creo que mas adelante la volvere a leer', 'Lectura deliciosa y sorprendente, te lleva por un camino de fantasía y sencillez', 'Un libro mágico que se puede asemejar a la vivencia de  sueño real. Yo estuve en Macondo, y me encantó.', 'Uno de los mejores libros que he leido en mi vida, inteligente, brillante; te transporta a Macondo una tierra enigmatica que quisiera conocer...', 'El mejor del Gabo, excelente, una obra que te marca para el resto de tu vida...', 'Libro de obligada lectura', 'Aunque mi primer intento de leer este libro me llevo a dejarlo por lo enrevesado que parecia ser, en una segunda y ultima toma de contacto se convirtio en mi libro preferido. El final me dejo extasiada. Recomiendo leerlo con papel y lapiz para seguir el hilo de los personajes pero es una verdadera obra de arte.', 'La imaginacion de gabo es realmente infinita... la realidad y la ficcion van de la mano de principio a fin en esta obra maestra y la diferencia entre ambas es tan pero tan sutil que ya no se sabe cual es cual !! que es ficcion o realidad en macondo ??!?!?!', 'Sencillamente, la novela que más me ha gustado de todas las que he leído.', 'En la república independiente de macondo viven los personajes mas pintorescos y se cuentan las historias mas extraordinarias que jamás leí. Una obra maestra. ', 'la primera vez que lei este libro fue en la secundaria y me enamore totalmente.', 'Un realismo mágico sin precedente, te transporta a macondo y el aislamiento me parece captado con un misticismo de antología, simplemente fantástico', 'me atreveria a decir que es el mejor libro que he leido de gabriel garcia marquez es sencillamente brillante, toda esa serie de elementos conjuntamente son sus personajes lo hacen un libro unico y muy particular, es imaginativo, magico, atrayente, muyy bueno..', 'Para mi es EL LIBRO y digamos que he leído unos cuantos.', 'Muy bueno, buenísimo. En realidad te transporta totalmente a un lugar en donde surgen acontecimientos muy fuera de lo común.', 'Libro completamente fantástico igual que otros tantos de Gabriel García Marquez que trasportan la mente como si fuese un espectador de la novela... me encanta este libro y otros del mismo autor (amor en los tiempos de colera, crónicas de una muerte anunciada, el coronel no tiene quien le escriba, vivir para contarlo) espectacular', 'La primera vez que leí este libro no me gustó, así de plano, pero en esta segunda ocasión realmente me impresionó muchísimo. Sólo una recomendación, trata de tomar nota de los personajes para que no te pierdas entre tantos Arcadios y Aurelianos.', 'Obra imprescindible de la literatura universal y máxima del realismo mágico. Construye toda la saga de una familia, desde su auge hasta su ocaso. De manera maravillosa y pensada. En ocasiones puede ser farragosa debido a su premeditada repetición de nombres de los protagonistas.', 'probablemente mi libro favorito si sumo la calidad literaria y lo que me gustó....de hecho estoy volviendo a leerlo. ¿enredoso? bueno ...si tardas meses en leerlo puede ser pero si lo deboras como me ocurre a mi no es nada lioso.', 'Nunca tuve paciencia para leer \"El Quijote\". Si lo hubiera hecho, quien sabe si encontraría razones para no decir que Cien Años de Soledad es para mí, el mejor libro del mundo.', 'soy una humilde lectora que se limita a alabar un libro, quizas uno de los mejores que he leido. con sus palabras, garcia marquez hace de un infierno algo hermoso. ', 'Es lo mejor que se ha escrito en lengua castellana en el siglo XX. Hay más imaginación en cada página que en toda la bibliografía de algunos autores de éxito que escriben una y otra vez la misma novela (las mismas \"intrigas\", los mismos personajes estereotipados, etc.) con títulos distintos.']\n",
            "['Aburrido, tostón monumental. No se lo recomiendo ni a mí peor enemigo.', 'Seré yo la nota discordante. La verdad es que la novela se me hizo muy tediosa. Una amalgama interminable de personajes que te hace perderte como un profesor nuevo que tiene que memorizar el nombre de 30 alumnos, con la particularidad de que casi todos se apellidan Buendía. Quizá el mayor atractivo sea cómo la novela va viajando a través del tiempo y se unen las historias. A mí, en lo personal, no me parece ni de lejos merecedora de la fama y el éxito que tuvo. Novela muy sobrevalorada.', 'Me he llevado una gran decepción con este libro, en ningún momento me engancho, lo termine de leer pensando que el siguiente capítulo sería más interesante, pero no. Le pongo un 5 por que me gusta como escribe G. García Márquez.', 'Una popular opinión: Tediosa, farragosa, a veces ñoña, aburrida, rara... no se qué más calificativos utilizar, pero ninguno de ellos es positivo. ', 'Salvo las historias de Mauricio Babilonia y la masacre de las bananeras, me pareció extremadamente tedioso. Gran parte del tiempo me sentí leyendo anécdotas sin trascendencia. Fue muchísimo menos de lo que esperaba. Debo confesar que, pese a que abandoné la práctica de terminar libros que no me gustan, este lo concluí porque sentía una especie de deuda emocional con esta obra, dado que en dos oportunidades durante mi infancia y adolescencia lo abandoné, habiendo este sido prestado por mi abuela, que ya falleció.', 'Lo siento pero no pude acabarlo, al final mezclaba los personajes me resultó un auténtico rollazo', 'Gabriel en este libro pone de manifiesto su calidad expresiva y su relación cotidiana con su entorno.', 'Será porque me lo mandaron leer cuando estaba estudiando como parte del temario de clase y eso influirá en mi lectura, pero la verdad es que no lo encontré tan extraordinario como las críticas que hay por Internet podrían hacer suponer.', 'Una novela sobrevalorada, no hay un objetivo claro, no tiene una estructura, una base, es una novela sin rumbo, con muchos personajes y eso la vuelve lenta, para mi gusto no es interesante, no aprendes algo nuevo, no te deja una enseñanza, no te deja con un buen sabor, cuando te vas adentrando en su lectura lo que quieres es terminar para acabar rápido, y empezar a leer otro libro, solo para no dejarlo inconcluso.', 'Tal vez mis expectativas eran muy altas después de haber escuchado comentarios tan positivos, el libro me pareció tedioso y de muy lento avance, simplemente no pude engancharme, algunas veces me perdía con el tantos nombres tan parecidos, tal vez lo leí en el momento equivocado, probare de nuevo en unos años.', 'Vale la pena leerlo por lo que representa para la literatura. Pero no es el estilo que me gusta, me pareció tedioso, enredado, difícil de seguir. De todas maneras, se supone que sea así, ¿no? Algo maravilloso de este libro es que puede producir reacciones tan diferentes en la gente así que es interesante el simple hecho de saber si te gusta o no.', 'Después de leer los comentarios y ver que es el segundo libro mejor valorado, me preocupa el no haber podido continuar con su lectura y dejarlo aparcado por un tiempo.', 'Los libros son como casi todo en la vida y los hay para todos los gustos. Para ser sincero no me gusta mucho esta obra, me parece cansina y repetitiva. No me gusto hace años y ahora me había propuesto darle otra oportunidad y sigo sin poder digerirla. ', 'Según mi opinión está sobrevalorada (con toda humildad). Empieza bien pero luego la historia se complica con infinidad de personajes y situaciones absurdas. ', 'Me quedé con un mal gusto porque realmente deseaba que me gustara, lo leí con todas las expectativas imaginables. La historia no me atrajo particularmente y el relato nunca me atrapó. Me pareció que se necesitaban muchas páginas para una descripción simple o para transmitir un hecho puntual. No discuto que debe ser una obra cumbre de la literatura, pero a mí no me conmovió ni me generó nada especial.', 'Me gusta la forma de escribir de Gabriel García Márquez. Sin embargo esté libro que quizás lo empecé con muchas expectativas, me ha resultado aburrido y pesado. Aún así llegué hasta el final con intención de poder asombrarme pero sin embargo me decepciono más.  En definitiva, una historia sin pies ni cabeza, totalmente absurda y muy aburrida. ', 'No me ha gustado y estoy siendo generoso con la valoración.De acuerdo que la prosa de Garcia Marquez es rica  , pero es lo único que salva a la novela, pues esta parece un culebrón interminable y un batiburrillo de nombres de personajes repetidos mezclados en una coctelera.Acabas el libro como lo empiezas, con la sensación de que no ha pasado absolutamente nada.Lo siento no me uno al carro del elogio.', 'No dudo de la excelente calidad literaria y de su rico vocabulario, así como de sus bellas frases para  explicar situaciones cotidianas y mágicas.', 'Lo tuve que leer de joven en el cole y lo pasé mal. No lo he disfrutado mucho más ahora de mayor. Se me ha hecho pesado y lento en muchos momentos aunque reconozco que quizá no sepa valorarlo como se merece. Hay que leerlo y entiendo que haya tanta discrepancia de criterio en su valoración.', 'Le doy un 6, no porque sea un libro mediocre; sino porque la temática no me llena. Tanta fantasía y magia no me emociona. Quitando esta matización, el libro es bueno; porque hace una crítica muy mordaz, pero sin ser una crítica ácida y amarga. Macondo es una metáfora del mundo. En su fundación no había poder o autoridad, religión ni ejército. Todo funcionaba a la perfección, sin ningún tipo de problemas. Los problemas aparecieron cuando el Gobierno envió a sus representantes, se instaló la Iglesia oficial. A partir de aquí, ya nunca existiría la paz y la concordia. El título creo, en mi modesta opinión, no es el correcto: Soledad se debería sustituir por la palabra Tristeza: ¡qué cosa más triste! También hay que criticar la utilización de nombres tan parecidos, dan lugar a confusión. El personaje que más me ha gustado es el de Úrsula, alrededor de ella gira toda la obra.', 'Muchas expectativas no alcanzadas, pero hay que leerlo para poder decir justificadamente que el llamado \"realismo mágico\" no me ha atrapado.', 'Una obra cumbre de la literatura universal.', 'Lo leí por la \"fama\" que le han dado, sin embargo, no cumplió mis expectativas, sin duda he leído mejores libros. Es muy confusa en los personajes y la trama no se me hizo muy buena.', 'Lo siento pero no me gustó nada. Es muy lento y demasiado aburrido. La historia no me gusta y los nombres de los personajes hacen que te vuelvas loco.', 'Discúlpenme, pero para mi no es de lo mejor, es un libro muy pesado, con muchos nombres repetidos. Fue un suplicio terminarlo, encima para no entenderlo del todo. Si tan solo no tuviese tanta repetición de nombres sería mas agradable, aunque creo que eso tiene mucho que ver con la historia.', 'Lo siento, no pude con él. Se me hizo pesadísimo, engorroso con tanto nombre... Tuve que dejar de leerlo durante un par de semanas y cuando quise volver se me hizo todavía más cuesta arriba. El primer libro que he dejado a medias.', 'Diferente, desconcertante por momentos, hubieron veces durante la lectura tuve que cerrarlo e inspirar aire para poder poner en orden en mi cabeza lo que acababa de leer... no me dejó una sensación de satisfacción después de leerlo más bien fue un descanso. Comparto la opinión de otros comentarios respecto a que supongo que tampoco es mi tipo de lectura.', 'Sinceramente no me gusta casi nada, desde luego que la historia es super peculiar, diferente de otros escritores, muy rico en vocabulario... Pero desde luego que creo que no leer nada mas de este escritor, tal vez no sea de mi gusto, simplemente.', 'Tenía  tantas expectativas con respecto a este libro que me dejó muy fría. A pesar de la riqueza de vocabulario y el estilo del autor, que me encanta, lo encontré algo aburrido y con muchos personajes con el mismo nombre que me liaron un poco.', 'Empecé a leer este libro por ser un gran clásico que pensaba que había que leer. A pesar de empezarlo con muchas ganas, a medida que iba leyendo me costaba cada vez más engancharme a su trama, a sus personajes, a sus costumbres.... Se me hizo lento y pesado, aunque a pesar de todo eso, lo terminé.', 'Quizás sea por que cuando lo leí era muy jovencita, pero este libro no me gustó nada. Se me hizo tedioso y muy pesado. No le encontraba ningún sentido a la historia, ni una trama argumental fija con suficiente \"chicha\" como para engancharme.', 'Probablemente sea la novela mas sobrevalorada de la historia, es un relato confuso, repetitivo, cansino, y lleno de anécdotas sin sentido; aun así tiene un par de momentos brillantes que le suben la nota.', 'La verdad es que con todas las expectativas que tenía en este libro normal que me haya decepcionado profundamente. ', 'Me dio mucha dificultad leerlo. Es posible que una segunda lectura me ayude a apreciar su importancia. En ésta primera no me logré enganchar.', 'Desprecio el libro, y García Márquez es de los escritores que menos me gustan.  Me parece sobrevaloradísimo, y entre los escritores del boom, creo que se halla en una posición que no merece, cuando Cortázar y Vargas Llosa, desde mi punto de vista, han escrito libros muy superiores a éste. ', 'Será una obras de la más valorada por los lectores pero a mí personalmente no me ha gustado nada. Me ha costado digerirla pero he aguantado hasta el final. ', 'Seguro que tiene gran valor literario pero yo no he terminado de leer este relato lleno de anécdotas ingeniosas y disparatadas. Parece que esta obra es un cuadro repleto de brochazos superpuestos; cada uno de ellos tiene el mérito de la imaginación del autor pero creo que por la reiteración y la falta de un hilo argumental pierde el interés. Los personajes: Arcadio, José Arcadio, Aureliano... de las distintas generaciones de los colonos de Macondo se repiten y confunden.', 'Me ha costado mucho terminar este libro. He concluido que no me gusta la prosa de G.Márquez. Ya me ocurrió con \"Crónica de una muerte anunciada\" y pensé que no debía juzgar tan pronto. Entonces leí \"Memoria de mis putas tristes\". Tampoco me gustó. Decidí leer el libro del que todo el mundo habla y del que todo el mundo dice que es un \"imprescindible\": \"Cien años de soledad\". Decididamente, este escritor no me gusta. Me ha parecido demasiado fantástico, muy latino-americano, con un montón de personajes que dificultan enormemente la fluidez de la lectura. Aún así me lo he leído entero. ', 'El primer tercio de la novela es interesante pero luego se  convierte en novelita rosa. Al principio es una persona que se aísla pero su intelecto está activo. ', 'Personalmente me perece un buen libro, pero de difícil lectura. A veces no te mete en la historia porque las cosas ocurren demasiado deprisa y lo peor la cantidad de personajes todos llamados por los mismos nombres. No pasa del 6 bajo mi humilde opinión', 'He intentado leerlo tres veces, y no he podido terminarlo, me parece aburridísimo.', 'Un libro que haya que leerlo tres veces para entenderlo es que aburre soberanamente, además sobre un tema nada original y donde aflora el sectarismo. Lo he regalado.', 'Me lo leí en algún tiempo y deseo volver a leerlo para retomar nuevamente la idea de su contenido, ya que los libros de este premio novel, también me fascinan.', 'Nunca me enganchó.', 'Me resultó muy complicado, tanto nombre me perdía, eso hizo que no lo disfrutara.', 'Aunque muchos estarán en desacuerdo conmigo, creo que con un seis me paso, para mi gusto este libro enreda mucho y se hace pesado, quizás me esperaba mas de lo que realmente es, muy lioso  recalco.', 'para gustos los colores todos los comentarios son de 10 , pero a mi se me atraganto y ni lo pude terminar ,se ve que me pilló en muy mal momento lo volveré a intentar ', 'Lo siento pero se me atragantó y lo terminé a duras penas. Es sin duda lo peor que he leído de García Márquez.', 'De los pocos libros que no he podido terminar de leer. No entiendo el por qué de su éxito. Es un libro que no me aporta nada ni me divierte.', 'Todo mundo cree que este libro es bueno por que no lo entiende', 'Lo siento, nunca he podido terminar este libro. ¡Me aburre y no le encuentro la gracia!', 'Es un buen libro, uno de los más leídos a escala mundial, aunque cuesta leerlo. Pero personalmente no entra entre mis libros favoritos. ', 'He pensado: que si todo estuviese predestinado, qué razón tendría la decisión en nuestra vida. Por ello te deja con un buen sazón en tu boca está  novela tan gustosa de muchos y no apreciada por otros. Como proeza, al final encuentres tu verdad.', 'Honestamente no entiendo que le ven a este libro, no me gustó en absoluto.', 'El libro es una recopilación de gran ingenio, muy interesante, me encanta este libro.', 'Lo leí hace años, y realmente no tengo el mejor de los recuerdos. Los buenos libros se recuerdan toda la vida.', 'No me ha gustado, me he aburrido con la historia de la familia Buendía. Creo que algunos momentos son interesantes pero otros son pesados. Es un libro que sino te engancha desde el principio te costará leerlo.', 'Sobrevalorado. Su intrincada genealogía me recuerda a las grandes novelas eslavas, con sus complicados nombres y sus apelativos para designar a los mismos, dando una vuelta de tuerca más para mantener en todo momento la atención del lector. Genera el lugar idílico de Macondo pero poco más. ', 'Supongo que será un gran libro para los mas entendidos, pero creo que para el lector \"normal\" como me considero yo, es un poco espeso de leer.', 'Creo que es el único libro que he sido incapaz de terminar, y he leido bastante. me resultó una obra muy pesada, supongo que porque no llego a entender esa mezcla de realidad y surrealismo que crea, \"realismo mágico\" creo que se llama. No se, no me gustó nada, no lo recomendaría, muy aburrido. ', 'No  puedo creer q alla alguien q le pueda gustar este libro... Es un libro con demasiadas descripciones no te da la libertad q espero de un libro a la hora de leerlo no te deja imaginar practicamente nada  te da demaciados datos descriptivos.', 'Por mucho uno de los mejores libros que he leido en mi vida me inice en la lectura de literatura con el y Garcia Marquez se convirtio en uno de mis escritores favoritos, sin duda alguna la mejor narrativa que he leido, las descripciones de los ambientes son geniales, gracias a eso MACONDO se hizo inolvidable para quienes tuvimos el gusto de leer esta obra.', 'Yo también he leído mucho, mucho, y en mi opinión, el libro no pasa de ser original, entretenido y... por qué no? Absurdo. La verdad es que tratándose de un referente de la Literatura Latinoamericana y un clásico, esperaba mucho más. Me ha gustado, sí, pero me ha decepcionado un poco. Y por supuesto que no figura entre los mejores libros que he leído en mi vida. Hay obras desconocidas que lo superan.', 'Un libro aburridisimo y muy enredoso, la verdad no lo recomiendo.']\n"
          ]
        }
      ],
      "source": [
        "print(pos)\n",
        "print(neg)"
      ]
    },
    {
      "cell_type": "code",
      "execution_count": null,
      "metadata": {
        "colab": {
          "base_uri": "https://localhost:8080/"
        },
        "id": "9PEi88CZwXs5",
        "outputId": "49fca123-f252-4626-b68f-bf71a645f687"
      },
      "outputs": [
        {
          "name": "stdout",
          "output_type": "stream",
          "text": [
            "Escribio\n"
          ]
        }
      ],
      "source": [
        "import random\n",
        "\n",
        "sub_pos = random.sample(pos, 100)\n",
        "sub_neg = random.sample(neg, 64)\n",
        "\n",
        "with open('pos.txt', 'w') as archpos:\n",
        "  for p in sub_pos:\n",
        "    archpos.write(p + '\\n')\n",
        "\n",
        "with open('neg.txt', 'w') as archneg:\n",
        "  for n in sub_neg:\n",
        "    archneg.write(n + '\\n')\n",
        "\n",
        "print(\"Escribio\")"
      ]
    },
    {
      "cell_type": "code",
      "execution_count": null,
      "metadata": {
        "colab": {
          "background_save": true,
          "base_uri": "https://localhost:8080/"
        },
        "id": "bQz9HBXNsYzn",
        "outputId": "1e5d7045-f1fd-45e6-ebf5-df9e85e61dc8"
      },
      "outputs": [
        {
          "name": "stdout",
          "output_type": "stream",
          "text": [
            "Presionao\n",
            "No esta\n",
            "Presionao\n",
            "No esta\n",
            "Presionao\n",
            "No esta\n",
            "Presionao\n",
            "No esta\n",
            "Presionao\n",
            "No esta\n",
            "Presionao\n",
            "No esta\n",
            "Presionao\n",
            "No esta\n",
            "Presionao\n",
            "No esta\n",
            "Presionao\n",
            "No esta\n",
            "Presionao\n",
            "No esta\n",
            "Presionao\n",
            "No esta\n",
            "Presionao\n",
            "No esta\n",
            "Presionao\n",
            "No esta\n",
            "Presionao\n",
            "No esta\n",
            "Presionao\n",
            "No esta\n",
            "Presionao\n",
            "No esta\n",
            "Presionao\n",
            "No esta\n",
            "Presionao\n",
            "No esta\n",
            "Presionao\n",
            "No esta\n",
            "Presionao\n",
            "No esta\n",
            "Presionao\n",
            "No esta\n",
            "Presionao\n",
            "No esta\n",
            "Presionao\n",
            "No esta\n",
            "Presionao\n",
            "No esta\n",
            "No veo el boton\n",
            "242\n",
            "242\n"
          ]
        }
      ],
      "source": [
        "# Iniciar nuestro navegador\n",
        "from playwright.async_api import async_playwright\n",
        "playwright = await async_playwright().start()\n",
        "browser = await playwright.chromium.launch()\n",
        "page = await browser.new_page()\n",
        "\n",
        "# Navegar\n",
        "await page.goto(\"https://www.lecturalia.com/libro/9/el-alquimista\")\n",
        "time.sleep(2)\n",
        "web = await page.content()\n",
        "time.sleep(2)\n",
        "\n",
        "\n",
        "while(True):\n",
        "  try:\n",
        "    button_xpath = \"//div[@id='button-comments']//a[contains(text(), 'Ver más comentarios')]\"\n",
        "    await page.locator(button_xpath).click()\n",
        "  except:\n",
        "    print(\"No veo el boton\")\n",
        "    break\n",
        "\n",
        "  time.sleep(2)\n",
        "\n",
        "  try:\n",
        "    print(\"Presionao\")\n",
        "    await page.get_by_label(\"Close\").click()\n",
        "  except:\n",
        "    print(\"No esta\")\n",
        "  web = await page.content()\n",
        "\n",
        "soup = BeautifulSoup(web, 'html.parser')\n",
        "\n",
        "opiniones = soup.find_all('div', class_='commentbox__content')\n",
        "puntuaciones = soup.find_all('div', class_='commentbox__header')\n",
        "print(len(opiniones))\n",
        "print(len(puntuaciones))\n",
        "\n",
        "# Cerrar la sesion\n",
        "await browser.close()\n",
        "await playwright.stop()"
      ]
    },
    {
      "cell_type": "code",
      "execution_count": null,
      "metadata": {
        "id": "0WsI1SHIvQkn"
      },
      "outputs": [],
      "source": [
        "comentarios1 = [opinion.find('p').text for opinion in opiniones]\n",
        "notas1 = [puntuacion.find('span', class_= 'book-rate color-rate').text for puntuacion in puntuaciones]\n",
        "notas2 = [float(nota) for nota in notas1]"
      ]
    },
    {
      "cell_type": "code",
      "execution_count": 15,
      "metadata": {
        "colab": {
          "base_uri": "https://localhost:8080/"
        },
        "id": "uGY-nD7evf-a",
        "outputId": "b73a8e46-94fc-46f6-9820-0b5ff55b7b7f"
      },
      "outputs": [
        {
          "output_type": "stream",
          "name": "stdout",
          "text": [
            "57\n",
            "106\n"
          ]
        }
      ],
      "source": [
        "pos1 = []\n",
        "neg1 = []\n",
        "\n",
        "for i in range(len(comentarios1)):\n",
        "  if notas2[i] <= 6:\n",
        "    neg1.append(comentarios1[i])\n",
        "  elif notas2[i] >= 8.5:\n",
        "    if len(comentarios1[i]) >= 10 and len(comentarios1[i]) <= 340:\n",
        "      pos1.append(comentarios1[i])\n",
        "\n",
        "print(len(pos1))\n",
        "print(len(neg1))\n",
        "#print(pos)"
      ]
    },
    {
      "cell_type": "code",
      "execution_count": 18,
      "metadata": {
        "colab": {
          "base_uri": "https://localhost:8080/"
        },
        "id": "LLfKIvFvwAwg",
        "outputId": "4fa75c99-df0c-4808-dc89-362a810ec4a1"
      },
      "outputs": [
        {
          "output_type": "stream",
          "name": "stdout",
          "text": [
            "Escribio\n"
          ]
        }
      ],
      "source": [
        "import random\n",
        "\n",
        "# Assuming you want a subset of pos1 similar to sub_neg1\n",
        "sub_pos1 = random.sample(pos1, len(pos1) if len(pos1) <= 36 else 36) # Use 36 or adjust if needed\n",
        "\n",
        "with open('pos1.txt', 'w') as archpos1:\n",
        "  for p in sub_pos1:\n",
        "    archpos1.write(p + '\\n')\n",
        "\n",
        "sub_neg1 = random.sample(neg1, 36)\n",
        "\n",
        "\n",
        "with open('neg1.txt', 'w') as archneg:\n",
        "  for n in sub_neg1:\n",
        "    archneg.write(n + '\\n')\n",
        "\n",
        "print(\"Escribio\")"
      ]
    },
    {
      "cell_type": "code",
      "execution_count": 19,
      "metadata": {
        "colab": {
          "base_uri": "https://localhost:8080/"
        },
        "id": "OlIv4hLx1Z1P",
        "outputId": "9c64b2cc-8955-42d6-e5d6-07c13ec6aa09"
      },
      "outputs": [
        {
          "output_type": "stream",
          "name": "stdout",
          "text": [
            "Archivos combinados y guardados en los directorios correspondientes.\n"
          ]
        }
      ],
      "source": [
        "import os\n",
        "\n",
        "# Crear los directorios si no existen\n",
        "os.makedirs('corpus/pos', exist_ok=True)\n",
        "os.makedirs('corpus/neg', exist_ok=True)\n",
        "\n",
        "# Combinar archivos positivos\n",
        "with open('pos.txt', 'r') as pos_file, open('pos1.txt', 'r') as pos1_file, open('corpus/pos/positivo.txt', 'w') as combined_pos:\n",
        "    combined_pos.writelines(pos_file.readlines())\n",
        "    combined_pos.writelines(pos1_file.readlines())\n",
        "\n",
        "# Combinar archivos negativos\n",
        "with open('neg.txt', 'r') as neg_file, open('neg1.txt', 'r') as neg1_file, open('corpus/neg/negativo.txt', 'w') as combined_neg:\n",
        "    combined_neg.writelines(neg_file.readlines())\n",
        "    combined_neg.writelines(neg1_file.readlines())\n",
        "\n",
        "print(\"Archivos combinados y guardados en los directorios correspondientes.\")\n"
      ]
    },
    {
      "cell_type": "code",
      "source": [
        "import os\n",
        "import random\n",
        "import xml.etree.ElementTree as ET\n",
        "import requests\n",
        "from statistics import mean, stdev, quantiles\n",
        "\n",
        "# Configuración de rutas y URLs\n",
        "SCRAPED_POSITIVE = \"/content/corpus/pos/positivo.txt\"  # Comentarios positivos del scraping\n",
        "SCRAPED_NEGATIVE = \"/content/corpus/neg/negativo.txt\"  # Comentarios negativos del scraping\n",
        "\n",
        "TRAIN_URL = \"https://raw.githubusercontent.com/kblandonv/Corpus_esp/main/general-train-tagged-3l.xml\"\n",
        "TEST_URL = \"https://raw.githubusercontent.com/kblandonv/Corpus_esp/main/general-test-tagged-3l.xml\"\n",
        "\n",
        "CORPUS_PATH = \"corpus\"\n",
        "POSITIVE_PATH = os.path.join(CORPUS_PATH, \"pos\")\n",
        "NEGATIVE_PATH = os.path.join(CORPUS_PATH, \"neg\")\n",
        "FINAL_POSITIVE_PATH = os.path.join(POSITIVE_PATH, \"final_pos.txt\")\n",
        "FINAL_NEGATIVE_PATH = os.path.join(NEGATIVE_PATH, \"final_neg.txt\")\n",
        "\n",
        "# Crear carpetas si no existen\n",
        "os.makedirs(POSITIVE_PATH, exist_ok=True)\n",
        "os.makedirs(NEGATIVE_PATH, exist_ok=True)\n",
        "\n",
        "# Semilla para reproducibilidad\n",
        "SEED = 42\n",
        "random.seed(SEED)\n",
        "\n",
        "def download_xml(url):\n",
        "    \"\"\"Descargar archivo XML desde GitHub.\"\"\"\n",
        "    response = requests.get(url)\n",
        "    response.raise_for_status()\n",
        "    return response.content\n",
        "\n",
        "def parse_tweets(xml_content, sentiment_filter):\n",
        "    \"\"\"Parsear tweets con la polaridad especificada (P o N).\"\"\"\n",
        "    root = ET.fromstring(xml_content)\n",
        "    tweets = []\n",
        "    for tweet in root.findall(\"tweet\"):\n",
        "        polarity = tweet.find(\"./sentiments/polarity/value\").text\n",
        "        if polarity == sentiment_filter:\n",
        "            content = tweet.find(\"content\").text.strip()\n",
        "            tweets.append(content)\n",
        "    return tweets\n",
        "\n",
        "def load_comments_from_scraping(filepath):\n",
        "    \"\"\"Cargar comentarios desde archivos de scraping.\"\"\"\n",
        "    with open(filepath, \"r\", encoding=\"utf-8\") as file:\n",
        "        return [line.strip() for line in file.readlines()]\n",
        "\n",
        "def save_tweets(tweets, filepath):\n",
        "    \"\"\"Guardar comentarios o tweets en un archivo.\"\"\"\n",
        "    with open(filepath, \"w\", encoding=\"utf-8\") as file:\n",
        "        for tweet in tweets:\n",
        "            file.write(tweet + \"\\n\")\n",
        "\n",
        "def calculate_metrics(filepath):\n",
        "    \"\"\"Calcular métricas de longitud de palabras en los tweets o comentarios.\"\"\"\n",
        "    with open(filepath, \"r\", encoding=\"utf-8\") as file:\n",
        "        lengths = [len(line.split()) for line in file.readlines()]\n",
        "    if not lengths:\n",
        "        return {\n",
        "            \"Mean\": 0,\n",
        "            \"Std\": 0,\n",
        "            \"Min\": 0,\n",
        "            \"Max\": 0,\n",
        "            \"Quartiles\": [0, 0, 0],\n",
        "            \"Sum\": 0\n",
        "        }\n",
        "    return {\n",
        "        \"Mean\": mean(lengths),\n",
        "        \"Std\": stdev(lengths) if len(lengths) > 1 else 0,\n",
        "        \"Min\": min(lengths),\n",
        "        \"Max\": max(lengths),\n",
        "        \"Quartiles\": quantiles(lengths, n=4),\n",
        "        \"Sum\": sum(lengths)\n",
        "    }\n",
        "\n",
        "def balance_and_save(scraped_pos, scraped_neg, xml_pos, xml_neg):\n",
        "    \"\"\"Combinar y balancear las fuentes, luego guardar en archivos intermedios.\"\"\"\n",
        "    # Calcular el tamaño balanceado entre ambas fuentes\n",
        "    sample_size = min(len(scraped_pos), len(scraped_neg), len(xml_pos), len(xml_neg))\n",
        "\n",
        "    # Seleccionar muestras balanceadas de ambas fuentes\n",
        "    balanced_positive = random.sample(scraped_pos, sample_size) + random.sample(xml_pos, sample_size)\n",
        "    balanced_negative = random.sample(scraped_neg, sample_size) + random.sample(xml_neg, sample_size)\n",
        "\n",
        "    # Guardar en archivos intermedios (dividir en 5 partes)\n",
        "    pos_batch_size = len(balanced_positive) // 5\n",
        "    neg_batch_size = len(balanced_negative) // 5\n",
        "\n",
        "    # Guardar los archivos positivos\n",
        "    for i in range(5):\n",
        "        batch = balanced_positive[i * pos_batch_size: (i + 1) * pos_batch_size]\n",
        "        save_tweets(batch, os.path.join(POSITIVE_PATH, f\"pos_part{i+1}.txt\"))\n",
        "\n",
        "    # Guardar los archivos negativos\n",
        "    for i in range(5):\n",
        "        batch = balanced_negative[i * neg_batch_size: (i + 1) * neg_batch_size]\n",
        "        save_tweets(batch, os.path.join(NEGATIVE_PATH, f\"neg_part{i+1}.txt\"))\n",
        "\n",
        "    return balanced_positive, balanced_negative\n",
        "\n",
        "def main():\n",
        "    # Cargar comentarios de la Fuente 1 (scraping)\n",
        "    scraped_positive = load_comments_from_scraping(SCRAPED_POSITIVE)\n",
        "    scraped_negative = load_comments_from_scraping(SCRAPED_NEGATIVE)\n",
        "\n",
        "    if not scraped_positive or not scraped_negative:\n",
        "        print(\"Error: Los archivos de scraping están vacíos o no existen.\")\n",
        "        return\n",
        "\n",
        "    # Descargar y procesar los XML (Fuente 2)\n",
        "    train_xml = download_xml(TRAIN_URL)\n",
        "    test_xml = download_xml(TEST_URL)\n",
        "\n",
        "    xml_positive = parse_tweets(train_xml, \"P\") + parse_tweets(test_xml, \"P\")\n",
        "    xml_negative = parse_tweets(train_xml, \"N\") + parse_tweets(test_xml, \"N\")\n",
        "\n",
        "    if not xml_positive or not xml_negative:\n",
        "        print(\"Error: No se encontraron tweets positivos o negativos en los XML.\")\n",
        "        return\n",
        "\n",
        "    # Combinar y balancear las dos fuentes\n",
        "    final_positive, final_negative = balance_and_save(scraped_positive, scraped_negative, xml_positive, xml_negative)\n",
        "\n",
        "    if not final_positive or not final_negative:\n",
        "        print(\"Error: No hay datos combinados suficientes para generar el corpus.\")\n",
        "        return\n",
        "\n",
        "    # Guardar los archivos finales\n",
        "    save_tweets(final_positive, FINAL_POSITIVE_PATH)\n",
        "    save_tweets(final_negative, FINAL_NEGATIVE_PATH)\n",
        "\n",
        "    # Calcular métricas finales\n",
        "    pos_metrics = calculate_metrics(FINAL_POSITIVE_PATH)\n",
        "    neg_metrics = calculate_metrics(FINAL_NEGATIVE_PATH)\n",
        "\n",
        "    # Mostrar métricas\n",
        "    print(\"Métricas para archivos positivos finales:\", pos_metrics)\n",
        "    print(\"Métricas para archivos negativos finales:\", neg_metrics)\n",
        "\n",
        "if __name__ == \"__main__\":\n",
        "    main()\n"
      ],
      "metadata": {
        "colab": {
          "base_uri": "https://localhost:8080/"
        },
        "id": "9CnLGyxJSXWz",
        "outputId": "dc55d971-e7f4-4446-d49e-83747af26bbf"
      },
      "execution_count": 27,
      "outputs": [
        {
          "output_type": "stream",
          "name": "stdout",
          "text": [
            "Métricas para archivos positivos finales: {'Mean': 23.1, 'Std': 12.963419736176153, 'Min': 1, 'Max': 61, 'Quartiles': [15.0, 20.0, 30.0], 'Sum': 4620}\n",
            "Métricas para archivos negativos finales: {'Mean': 28.855, 'Std': 20.38114151975402, 'Min': 3, 'Max': 154, 'Quartiles': [17.0, 22.0, 32.25], 'Sum': 5771}\n"
          ]
        }
      ]
    }
  ],
  "metadata": {
    "colab": {
      "provenance": []
    },
    "kernelspec": {
      "display_name": "Python 3",
      "name": "python3"
    },
    "language_info": {
      "name": "python"
    }
  },
  "nbformat": 4,
  "nbformat_minor": 0
}